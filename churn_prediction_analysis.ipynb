{
 "cells": [
  {
   "cell_type": "markdown",
   "metadata": {
    "id": "b73EDIimtPp7"
   },
   "source": [
    "# **Chrun Prediction **\n",
    "\n",
    "This file will cover data smoting, MLP and decision tree along with thier hybrid and ensemble approaches:\n",
    "\n",
    "- [Loading & smote](#loading)\n",
    "- [Model fitting](#model)\n",
    "    - [decision tree](#dt)\n",
    "    - [MLP](#MLP)\n",
    "    - [DRNN](#rnn)\n",
    "    - [XGB](#xgb)\n",
    "    - [Random Forest](#rf)\n",
    "- [hybrid](#hy)\n",
    "- [validation](#val)"
   ]
  },
  {
   "cell_type": "markdown",
   "metadata": {
    "id": "_6Gu-Dg8wthu"
   },
   "source": [
    "### imports"
   ]
  },
  {
   "cell_type": "code",
   "execution_count": 1,
   "metadata": {
    "id": "OIKR3ys4puDT"
   },
   "outputs": [],
   "source": [
    "#imports\n",
    "import pandas as pd\n",
    "# from torch.utils.data\n",
    "import torch\n",
    "from torch import nn\n",
    "from torch.utils.data import DataLoader\n",
    "from torch.utils.data import Dataset\n",
    "from skorch import NeuralNetBinaryClassifier\n",
    "import numpy as np\n",
    "from sklearn.neural_network import MLPClassifier\n",
    "from sklearn.ensemble import AdaBoostRegressor\n",
    "from imblearn.ensemble import BalancedBaggingClassifier\n",
    "from sklearn import metrics\n",
    "from sklearn.preprocessing import StandardScaler\n",
    "from sklearn.experimental import enable_iterative_imputer\n",
    "from sklearn.impute import IterativeImputer\n",
    "from xgboost import XGBClassifier\n",
    "from sklearn.model_selection import train_test_split\n",
    "from sklearn.metrics import accuracy_score\n",
    "from sklearn.metrics import f1_score\n",
    "from sklearn.ensemble import BaggingClassifier\n",
    "from sklearn.ensemble import RandomForestClassifier\n",
    "from sklearn.metrics import confusion_matrix\n",
    "import seaborn as sns # For creating plots\n",
    "import matplotlib.ticker as mtick # For specifying the axes tick format\n",
    "import matplotlib.pyplot as plt\n",
    "from imblearn.combine import SMOTEENN\n",
    "from imblearn.over_sampling import SMOTE\n",
    "from imblearn.under_sampling import EditedNearestNeighbours\n",
    "from imblearn.over_sampling import SMOTE\n",
    "from collections import Counter\n",
    "from imblearn.under_sampling import NearMiss\n",
    "from sklearn.neighbors import KNeighborsRegressor\n",
    "from sklearn.impute import KNNImputer\n",
    "from sklearn.impute import SimpleImputer\n",
    "from imblearn.pipeline import make_pipeline\n",
    "from sklearn.model_selection import RandomizedSearchCV\n",
    "from sklearn.ensemble import RandomForestRegressor\n",
    "import seaborn as sns #Visualization\n",
    "import plotly.express as px\n",
    "import seaborn as sns\n",
    "from sklearn.manifold import TSNE\n",
    "from sklearn.decomposition import PCA, TruncatedSVD\n",
    "import matplotlib.patches as mpatches\n",
    "import time\n",
    "\n",
    "# Classifier Libraries\n",
    "from sklearn.linear_model import LogisticRegression\n",
    "from sklearn.svm import SVC\n",
    "from sklearn.neighbors import KNeighborsClassifier\n",
    "from sklearn.tree import DecisionTreeClassifier\n",
    "from sklearn.ensemble import RandomForestClassifier\n",
    "from sklearn.ensemble import AdaBoostClassifier\n",
    "import collections\n",
    "\n",
    "\n",
    "# Other Libraries\n",
    "from sklearn.pipeline import make_pipeline\n",
    "from imblearn.pipeline import make_pipeline as imbalanced_make_pipeline\n",
    "from imblearn.under_sampling import NearMiss\n",
    "from imblearn.metrics import classification_report_imbalanced\n",
    "from sklearn.metrics import precision_score, recall_score, f1_score, roc_auc_score, accuracy_score, classification_report,roc_curve\n",
    "from collections import Counter\n",
    "from sklearn.model_selection import KFold, StratifiedKFold\n",
    "import warnings\n",
    "warnings.filterwarnings(\"ignore\")\n"
   ]
  },
  {
   "cell_type": "markdown",
   "metadata": {
    "id": "Eve4dPqUwxmP"
   },
   "source": [
    "<a id='loading'></a>\n",
    "### loading"
   ]
  },
  {
   "cell_type": "code",
   "execution_count": 2,
   "metadata": {},
   "outputs": [],
   "source": [
    "df_train = pd.read_csv(\"train_set_final.csv\")\n",
    "df_test = pd.read_csv(\"test_set_final.csv\")\n",
    "y_train_clean = df_train['STATUS']\n",
    "X_train_clean = df_train.drop(['STATUS'], axis=1)\n",
    "# X_train1 = X_train1[col]\n",
    "\n",
    "y_test_clean = df_test['STATUS']\n",
    "X_test_clean = df_test.drop(['STATUS'], axis=1)\n",
    "\n"
   ]
  },
  {
   "cell_type": "code",
   "execution_count": 3,
   "metadata": {
    "id": "sjiol97x_oW1",
    "outputId": "6d812dd1-2f13-433b-e4ab-0d216a406ec3",
    "scrolled": true
   },
   "outputs": [],
   "source": [
    "df_train = pd.read_csv(\"train_resampled.csv\")\n",
    "df_test = pd.read_csv(\"test_resampled.csv\")\n",
    "\n",
    "y_train_sm = df_train['STATUS']\n",
    "X_train_sm = df_train.drop(['STATUS'], axis=1)\n",
    "\n",
    "y_test_sm = df_test['STATUS']\n",
    "X_test_sm = df_test.drop(['STATUS'], axis=1)\n"
   ]
  },
  {
   "cell_type": "code",
   "execution_count": 14,
   "metadata": {
    "id": "8od4ZJVv_oW1"
   },
   "outputs": [],
   "source": [
    "X_test_sm_c = X_test_sm.copy()\n",
    "X_train_sm_c = X_train_sm.copy()\n",
    "\n",
    "\n",
    "scale = StandardScaler()\n",
    "scale.fit(X_train_sm_c)\n",
    "\n",
    "scale_t = StandardScaler()\n",
    "scale_t.fit(X_test_sm_c)\n",
    "\n",
    "sc_train =scale.transform(X_train_sm_c)\n",
    "sc_test =scale_t.transform(X_test_sm_c)"
   ]
  },
  {
   "cell_type": "code",
   "execution_count": 15,
   "metadata": {
    "id": "dssGVLgS_oW1"
   },
   "outputs": [],
   "source": [
    "X_test_c = X_test_clean.copy()\n",
    "X_train_c = X_train_clean.copy()\n",
    "\n",
    "\n",
    "scale = StandardScaler()\n",
    "scale.fit(X_train_c)\n",
    "\n",
    "scale_t = StandardScaler()\n",
    "scale_t.fit(X_test_c)\n",
    "\n",
    "sc_train_clean = scale.transform(X_train_c)\n",
    "sc_test_clean = scale_t.transform(X_test_c)"
   ]
  },
  {
   "cell_type": "markdown",
   "metadata": {
    "id": "9faVIm3J_oW2"
   },
   "source": [
    "data copying and scaling for MLP"
   ]
  },
  {
   "cell_type": "code",
   "execution_count": 6,
   "metadata": {
    "id": "kamwOJDDyqeO"
   },
   "outputs": [],
   "source": [
    "def model_val(labels_test,pred, pred_proba):\n",
    "    cnf_matrix=confusion_matrix(labels_test,pred)\n",
    "    print(\"AUC\",roc_auc_score(labels_test, pred_proba))\n",
    "    print(\"the recall for this model is :\",cnf_matrix[1,1]/(cnf_matrix[1,1]+cnf_matrix[1,0]))\n",
    "    print(\"TP\",cnf_matrix[1,1,]) # no of fraud transaction which are predicted fraud\n",
    "    print(\"TN\",cnf_matrix[0,0]) # no. of normal transaction which are predited normal\n",
    "    print(\"FP\",cnf_matrix[0,1]) # no of normal transaction which are predicted fraud\n",
    "    print(\"FN\",cnf_matrix[1,0]) # no of fraud Transaction which are predicted normal\n",
    "\n",
    "    print(\"\\n----------Classification Report------------------------------------\")\n",
    "    print(classification_report(labels_test,pred, digits=5))\n",
    "    print(classification_report_imbalanced(labels_test, pred, digits=5))"
   ]
  },
  {
   "cell_type": "code",
   "execution_count": 7,
   "metadata": {
    "id": "v2z4IZtl_oW2"
   },
   "outputs": [],
   "source": [
    "def roc_png(proba,y, name):\n",
    "    fpr, tpr, thresholds = roc_curve(y, proba)\n",
    "\n",
    "    auc = roc_auc_score(y, proba)\n",
    "\n",
    "    sns.set_style(\"whitegrid\")\n",
    "\n",
    "    fig, ax = plt.subplots(figsize=(8, 6))\n",
    "\n",
    "    ax.plot(fpr, tpr, color='darkorange', lw=2)\n",
    "    ax.plot([0, 1], [0, 1], color='navy', lw=2, linestyle='--', label='ِAUC = %0.4f' % auc)\n",
    "\n",
    "    ax.set_xlim([-0.1, 1.0])\n",
    "    ax.set_ylim([-0.1, 1.05])\n",
    "    ax.set_xlabel('False Positive Rate', fontsize=14)\n",
    "    ax.set_ylabel('True Positive Rate', fontsize=14)\n",
    "\n",
    "    # Add a title and legend\n",
    "    ax.set_title(name, fontsize=18, fontweight='bold')\n",
    "    ax.legend(loc=\"lower right\", fontsize=12)\n",
    "\n",
    "    # Customize the tick labels and grid\n",
    "    ax.tick_params(axis='both', which='major', labelsize=12, length=6, width=2)\n",
    "    ax.grid(color='lightgray', linestyle='--')\n",
    "\n",
    "    # Remove the top and right spines\n",
    "    sns.despine()\n",
    "\n",
    "    # Save the plot to a file with high resolution\n",
    "    fig.savefig(name + '.png', dpi=1200, bbox_inches='tight')\n",
    "\n",
    "    # Show the plot\n",
    "    plt.show()"
   ]
  },
  {
   "cell_type": "code",
   "execution_count": 8,
   "metadata": {},
   "outputs": [],
   "source": [
    "def  CrossValidation(model,X,y,K):\n",
    "    \n",
    "    # Define the scoring metrics\n",
    "    scoring = {'accuracy': make_scorer(accuracy_score),\n",
    "               'precision': make_scorer(precision_score, average='weighted'),\n",
    "               'recall': make_scorer(recall_score, average='weighted'),\n",
    "               'f1_score': make_scorer(f1_score, average='weighted')}\n",
    "\n",
    "    cv_results = cross_validate(model, X, y, cv=K, scoring=scoring)\n",
    "\n",
    "   \n",
    "\n",
    "   # Print the results\n",
    "    for metric, values in cv_results.items():\n",
    "        print(f\"{metric}: {values.mean():.5f} (+/- {values.std() * 2:.4f})\")"
   ]
  },
  {
   "cell_type": "code",
   "execution_count": 9,
   "metadata": {},
   "outputs": [],
   "source": [
    "def model(model,features_train,features_test,labels_train,labels_test):\n",
    "    clf= model\n",
    "    \n",
    "    clf.fit(features_train,labels_train)\n",
    "    \n",
    "    pred=clf.predict(features_test)\n",
    "    \n",
    "    pred_proba=clf.predict_proba(features_test)\n",
    "    \n",
    "    print(\"AUC\",roc_auc_score(labels_test, pred_proba[:,1]))\n",
    "    \n",
    "    \n",
    "    cnf_matrix=confusion_matrix(labels_test,pred)\n",
    "    \n",
    "   \n",
    "    print(\"TP\",cnf_matrix[1,1,]) # no of fraud transaction which are predicted fraud\n",
    "    print(\"TN\",cnf_matrix[0,0]) # no. of normal transaction which are predited normal\n",
    "    print(\"FP\",cnf_matrix[0,1]) # no of normal transaction which are predicted fraud\n",
    "    print(\"FN\",cnf_matrix[1,0]) # no of fraud Transaction which are predicted normal from sklearn.metrics import f1_score\n",
    "    \n",
    "    \n",
    "    print(\"\\n----------Classification Report------------------------------------\")\n",
    "    print(classification_report(labels_test,pred,digits=5))\n",
    "    return pred_proba, pred"
   ]
  },
  {
   "cell_type": "markdown",
   "metadata": {
    "id": "l3h308UOwRkl"
   },
   "source": [
    "<a id='model'></a>\n",
    "# **Model fiting**"
   ]
  },
  {
   "cell_type": "markdown",
   "metadata": {
    "id": "i3nH1AB0_oW2"
   },
   "source": [
    "<a id='dt'></a>\n",
    "\n",
    "\n",
    "## 1.1 Decision Tree Classifier\n",
    "\n",
    "The Decision Tree classifier is a popular machine learning algorithm that uses a tree-like model of decisions and their possible consequences. Each internal node represents a feature or attribute, each branch represents a decision rule, and each leaf node represents an outcome. The Decision Tree Classifier is used for this particular task.\n",
    "\n",
    "### Model Hyperparameters\n",
    "\n",
    "The Decision Tree classifier used for this task was configured with the following hyperparameters:\n",
    "\n",
    "| Hyperparameter | Value                         | Description                                                      |\n",
    "|----------------|-------------------------------|------------------------------------------------------------------|\n",
    "| ccp_alpha      | 1.5151515151515151e-05        | Complexity parameter used for pruning the decision tree.         |\n",
    "| random_state   | 1                             | Seed value for random number generation to ensure reproducibility. |\n",
    "\n",
    "\n",
    "\n",
    "These hyperparameters were chosen based on experimentation and may require further tuning for optimal performance on specific data.\n",
    "\n"
   ]
  },
  {
   "cell_type": "markdown",
   "metadata": {
    "id": "L-NG_dht_oW3"
   },
   "source": [
    "### balanced"
   ]
  },
  {
   "cell_type": "code",
   "execution_count": null,
   "metadata": {
    "id": "gRFWfG96_oW3",
    "outputId": "01682c5b-4c23-4e2f-9532-8c607af3e471"
   },
   "outputs": [
    {
     "data": {
      "text/html": [
       "<style>#sk-container-id-4 {color: black;background-color: white;}#sk-container-id-4 pre{padding: 0;}#sk-container-id-4 div.sk-toggleable {background-color: white;}#sk-container-id-4 label.sk-toggleable__label {cursor: pointer;display: block;width: 100%;margin-bottom: 0;padding: 0.3em;box-sizing: border-box;text-align: center;}#sk-container-id-4 label.sk-toggleable__label-arrow:before {content: \"▸\";float: left;margin-right: 0.25em;color: #696969;}#sk-container-id-4 label.sk-toggleable__label-arrow:hover:before {color: black;}#sk-container-id-4 div.sk-estimator:hover label.sk-toggleable__label-arrow:before {color: black;}#sk-container-id-4 div.sk-toggleable__content {max-height: 0;max-width: 0;overflow: hidden;text-align: left;background-color: #f0f8ff;}#sk-container-id-4 div.sk-toggleable__content pre {margin: 0.2em;color: black;border-radius: 0.25em;background-color: #f0f8ff;}#sk-container-id-4 input.sk-toggleable__control:checked~div.sk-toggleable__content {max-height: 200px;max-width: 100%;overflow: auto;}#sk-container-id-4 input.sk-toggleable__control:checked~label.sk-toggleable__label-arrow:before {content: \"▾\";}#sk-container-id-4 div.sk-estimator input.sk-toggleable__control:checked~label.sk-toggleable__label {background-color: #d4ebff;}#sk-container-id-4 div.sk-label input.sk-toggleable__control:checked~label.sk-toggleable__label {background-color: #d4ebff;}#sk-container-id-4 input.sk-hidden--visually {border: 0;clip: rect(1px 1px 1px 1px);clip: rect(1px, 1px, 1px, 1px);height: 1px;margin: -1px;overflow: hidden;padding: 0;position: absolute;width: 1px;}#sk-container-id-4 div.sk-estimator {font-family: monospace;background-color: #f0f8ff;border: 1px dotted black;border-radius: 0.25em;box-sizing: border-box;margin-bottom: 0.5em;}#sk-container-id-4 div.sk-estimator:hover {background-color: #d4ebff;}#sk-container-id-4 div.sk-parallel-item::after {content: \"\";width: 100%;border-bottom: 1px solid gray;flex-grow: 1;}#sk-container-id-4 div.sk-label:hover label.sk-toggleable__label {background-color: #d4ebff;}#sk-container-id-4 div.sk-serial::before {content: \"\";position: absolute;border-left: 1px solid gray;box-sizing: border-box;top: 0;bottom: 0;left: 50%;z-index: 0;}#sk-container-id-4 div.sk-serial {display: flex;flex-direction: column;align-items: center;background-color: white;padding-right: 0.2em;padding-left: 0.2em;position: relative;}#sk-container-id-4 div.sk-item {position: relative;z-index: 1;}#sk-container-id-4 div.sk-parallel {display: flex;align-items: stretch;justify-content: center;background-color: white;position: relative;}#sk-container-id-4 div.sk-item::before, #sk-container-id-4 div.sk-parallel-item::before {content: \"\";position: absolute;border-left: 1px solid gray;box-sizing: border-box;top: 0;bottom: 0;left: 50%;z-index: -1;}#sk-container-id-4 div.sk-parallel-item {display: flex;flex-direction: column;z-index: 1;position: relative;background-color: white;}#sk-container-id-4 div.sk-parallel-item:first-child::after {align-self: flex-end;width: 50%;}#sk-container-id-4 div.sk-parallel-item:last-child::after {align-self: flex-start;width: 50%;}#sk-container-id-4 div.sk-parallel-item:only-child::after {width: 0;}#sk-container-id-4 div.sk-dashed-wrapped {border: 1px dashed gray;margin: 0 0.4em 0.5em 0.4em;box-sizing: border-box;padding-bottom: 0.4em;background-color: white;}#sk-container-id-4 div.sk-label label {font-family: monospace;font-weight: bold;display: inline-block;line-height: 1.2em;}#sk-container-id-4 div.sk-label-container {text-align: center;}#sk-container-id-4 div.sk-container {/* jupyter's `normalize.less` sets `[hidden] { display: none; }` but bootstrap.min.css set `[hidden] { display: none !important; }` so we also need the `!important` here to be able to override the default hidden behavior on the sphinx rendered scikit-learn.org. See: https://github.com/scikit-learn/scikit-learn/issues/21755 */display: inline-block !important;position: relative;}#sk-container-id-4 div.sk-text-repr-fallback {display: none;}</style><div id=\"sk-container-id-4\" class=\"sk-top-container\"><div class=\"sk-text-repr-fallback\"><pre>DecisionTreeClassifier(ccp_alpha=1.5151515151515151e-05, random_state=1)</pre><b>In a Jupyter environment, please rerun this cell to show the HTML representation or trust the notebook. <br />On GitHub, the HTML representation is unable to render, please try loading this page with nbviewer.org.</b></div><div class=\"sk-container\" hidden><div class=\"sk-item\"><div class=\"sk-estimator sk-toggleable\"><input class=\"sk-toggleable__control sk-hidden--visually\" id=\"sk-estimator-id-4\" type=\"checkbox\" checked><label for=\"sk-estimator-id-4\" class=\"sk-toggleable__label sk-toggleable__label-arrow\">DecisionTreeClassifier</label><div class=\"sk-toggleable__content\"><pre>DecisionTreeClassifier(ccp_alpha=1.5151515151515151e-05, random_state=1)</pre></div></div></div></div></div>"
      ],
      "text/plain": [
       "DecisionTreeClassifier(ccp_alpha=1.5151515151515151e-05, random_state=1)"
      ]
     },
     "execution_count": 37,
     "metadata": {},
     "output_type": "execute_result"
    }
   ],
   "source": [
    "model_dt = DecisionTreeClassifier(ccp_alpha =  1.5151515151515151e-05 , random_state=1)\n",
    "model_dt.fit(X_train_sm, y_train_sm)"
   ]
  },
  {
   "cell_type": "code",
   "execution_count": null,
   "metadata": {
    "id": "BIHO2_DB_oW3",
    "outputId": "da18de17-390d-4b7f-a768-2b2253ab5f8e",
    "scrolled": false
   },
   "outputs": [
    {
     "name": "stdout",
     "output_type": "stream",
     "text": [
      "AUC 0.9261147149174054\n",
      "the recall for this model is : 0.9341469616069158\n",
      "TP 51436\n",
      "TN 38584\n",
      "FP 5928\n",
      "FN 3626\n",
      "\n",
      "----------Classification Report------------------------------------\n",
      "              precision    recall  f1-score   support\n",
      "\n",
      "           0    0.91410   0.86682   0.88983     44512\n",
      "           1    0.89666   0.93415   0.91502     55062\n",
      "\n",
      "    accuracy                        0.90405     99574\n",
      "   macro avg    0.90538   0.90048   0.90243     99574\n",
      "weighted avg    0.90445   0.90405   0.90376     99574\n",
      "\n",
      "                   pre       rec       spe        f1       geo       iba       sup\n",
      "\n",
      "          0    0.91410   0.86682   0.93415   0.88983   0.89986   0.80429     44512\n",
      "          1    0.89666   0.93415   0.86682   0.91502   0.89986   0.81519     55062\n",
      "\n",
      "avg / total    0.90445   0.90405   0.89692   0.90376   0.89986   0.81032     99574\n",
      "\n"
     ]
    }
   ],
   "source": [
    "y_pred_nor = model_dt.predict(X_test_sm)\n",
    "probas_nor= model_dt.predict_proba(X_test_sm)\n",
    "model_val(y_test_sm, y_pred_nor, probas_nor[:,1])"
   ]
  },
  {
   "cell_type": "code",
   "execution_count": null,
   "metadata": {
    "id": "t9RzNe5p_oW3",
    "outputId": "a54053ae-5fca-4ce8-8207-147981b587cc",
    "scrolled": false
   },
   "outputs": [
    {
     "name": "stdout",
     "output_type": "stream",
     "text": [
      "AUC 0.9906271812669769\n",
      "the recall for this model is : 0.9811666848280121\n",
      "TP 108050\n",
      "TN 93054\n",
      "FP 3446\n",
      "FN 2074\n",
      "\n",
      "----------Classification Report------------------------------------\n",
      "              precision    recall  f1-score   support\n",
      "\n",
      "           0    0.97820   0.96429   0.97119     96500\n",
      "           1    0.96909   0.98117   0.97509    110124\n",
      "\n",
      "    accuracy                        0.97328    206624\n",
      "   macro avg    0.97365   0.97273   0.97314    206624\n",
      "weighted avg    0.97335   0.97328   0.97327    206624\n",
      "\n",
      "                   pre       rec       spe        f1       geo       iba       sup\n",
      "\n",
      "          0    0.97820   0.96429   0.98117   0.97119   0.97269   0.94453     96500\n",
      "          1    0.96909   0.98117   0.96429   0.97509   0.97269   0.94773    110124\n",
      "\n",
      "avg / total    0.97335   0.97328   0.97217   0.97327   0.97269   0.94623    206624\n",
      "\n"
     ]
    }
   ],
   "source": [
    "y_pred_train = model_dt.predict(X_train_sm)\n",
    "y_proba_train = model_dt.predict_proba(X_train_sm)\n",
    "model_val(y_train_sm, y_pred_train,y_proba_train[:,1])"
   ]
  },
  {
   "cell_type": "code",
   "execution_count": null,
   "metadata": {
    "id": "b8p14OVz_oW3",
    "outputId": "94fde46d-f465-47ac-cf34-0aa21ae91abb"
   },
   "outputs": [
    {
     "data": {
      "image/png": "[encoded data removed]",
      "text/plain": [
       "<Figure size 800x600 with 1 Axes>"
      ]
     },
     "metadata": {},
     "output_type": "display_data"
    }
   ],
   "source": [
    "roc_png(proba =probas_nor[:,1],y=y_test_sm, name = 'ROC Curve for DT')"
   ]
  },
  {
   "cell_type": "markdown",
   "metadata": {
    "id": "_CqvNJ2m_oW3"
   },
   "source": [
    "**Dt with prune results:**\n",
    "- Test Accuracy = 90.405%.\n",
    "- Test F1-score = 90.243%.\n",
    "- Test Precision = 90.538%."
   ]
  },
  {
   "cell_type": "markdown",
   "metadata": {
    "id": "rM1HKjvT_oW4"
   },
   "source": [
    "### unbalanced"
   ]
  },
  {
   "cell_type": "code",
   "execution_count": 14,
   "metadata": {
    "id": "xNmLR6mH_oW4",
    "outputId": "a6ac454e-7a74-47c8-ac1b-9bd30305e502"
   },
   "outputs": [
    {
     "name": "stdout",
     "output_type": "stream",
     "text": [
      "AUC 0.7539959190561712\n",
      "the recall for this model is : 0.9783879989829647\n",
      "TP 53872\n",
      "TN 1290\n",
      "FP 1672\n",
      "FN 1190\n",
      "\n",
      "----------Classification Report------------------------------------\n",
      "              precision    recall  f1-score   support\n",
      "\n",
      "           0    0.52016   0.43552   0.47409      2962\n",
      "           1    0.96990   0.97839   0.97412     55062\n",
      "\n",
      "    accuracy                        0.95068     58024\n",
      "   macro avg    0.74503   0.70695   0.72411     58024\n",
      "weighted avg    0.94694   0.95068   0.94860     58024\n",
      "\n",
      "                   pre       rec       spe        f1       geo       iba       sup\n",
      "\n",
      "          0    0.52016   0.43552   0.97839   0.47409   0.65277   0.40297      2962\n",
      "          1    0.96990   0.97839   0.43552   0.97412   0.65277   0.44924     55062\n",
      "\n",
      "avg / total    0.94694   0.95068   0.46323   0.94860   0.65277   0.44687     58024\n",
      "\n"
     ]
    }
   ],
   "source": [
    "model_dt_clean = DecisionTreeClassifier(ccp_alpha =  1.5151515151515151e-05 , random_state=1)\n",
    "model_dt_clean.fit(X_train_clean, y_train_clean)\n",
    "\n",
    "\n",
    "y_pred_nor_clean = model_dt_clean.predict(X_test_clean)\n",
    "probas_nor_clean = model_dt_clean.predict_proba(X_test_clean)\n",
    "model_val(y_test_clean, y_pred_nor_clean, probas_nor_clean[:,1])"
   ]
  },
  {
   "cell_type": "markdown",
   "metadata": {
    "id": "soHlxQig_oW4"
   },
   "source": [
    "**unbalanced Dt with prune results:**\n",
    "- Test Accuracy = 95.068%.\n",
    "- Test F1-score = 72.411%.\n",
    "- Test Precision = 74.503%."
   ]
  },
  {
   "cell_type": "markdown",
   "metadata": {
    "id": "uKtWR85j_oW4"
   },
   "source": [
    "## Optimal Dt 1.2\n",
    "(with ada, bagging and prune)"
   ]
  },
  {
   "cell_type": "markdown",
   "metadata": {
    "id": "IPDlAzVR_oW4"
   },
   "source": [
    "### balanced"
   ]
  },
  {
   "cell_type": "code",
   "execution_count": null,
   "metadata": {
    "id": "kb7tgpLp_oW4",
    "outputId": "68f6cab0-d841-4607-f13d-62f33e0be663"
   },
   "outputs": [
    {
     "data": {
      "text/html": [
       "<style>#sk-container-id-3 {color: black;background-color: white;}#sk-container-id-3 pre{padding: 0;}#sk-container-id-3 div.sk-toggleable {background-color: white;}#sk-container-id-3 label.sk-toggleable__label {cursor: pointer;display: block;width: 100%;margin-bottom: 0;padding: 0.3em;box-sizing: border-box;text-align: center;}#sk-container-id-3 label.sk-toggleable__label-arrow:before {content: \"▸\";float: left;margin-right: 0.25em;color: #696969;}#sk-container-id-3 label.sk-toggleable__label-arrow:hover:before {color: black;}#sk-container-id-3 div.sk-estimator:hover label.sk-toggleable__label-arrow:before {color: black;}#sk-container-id-3 div.sk-toggleable__content {max-height: 0;max-width: 0;overflow: hidden;text-align: left;background-color: #f0f8ff;}#sk-container-id-3 div.sk-toggleable__content pre {margin: 0.2em;color: black;border-radius: 0.25em;background-color: #f0f8ff;}#sk-container-id-3 input.sk-toggleable__control:checked~div.sk-toggleable__content {max-height: 200px;max-width: 100%;overflow: auto;}#sk-container-id-3 input.sk-toggleable__control:checked~label.sk-toggleable__label-arrow:before {content: \"▾\";}#sk-container-id-3 div.sk-estimator input.sk-toggleable__control:checked~label.sk-toggleable__label {background-color: #d4ebff;}#sk-container-id-3 div.sk-label input.sk-toggleable__control:checked~label.sk-toggleable__label {background-color: #d4ebff;}#sk-container-id-3 input.sk-hidden--visually {border: 0;clip: rect(1px 1px 1px 1px);clip: rect(1px, 1px, 1px, 1px);height: 1px;margin: -1px;overflow: hidden;padding: 0;position: absolute;width: 1px;}#sk-container-id-3 div.sk-estimator {font-family: monospace;background-color: #f0f8ff;border: 1px dotted black;border-radius: 0.25em;box-sizing: border-box;margin-bottom: 0.5em;}#sk-container-id-3 div.sk-estimator:hover {background-color: #d4ebff;}#sk-container-id-3 div.sk-parallel-item::after {content: \"\";width: 100%;border-bottom: 1px solid gray;flex-grow: 1;}#sk-container-id-3 div.sk-label:hover label.sk-toggleable__label {background-color: #d4ebff;}#sk-container-id-3 div.sk-serial::before {content: \"\";position: absolute;border-left: 1px solid gray;box-sizing: border-box;top: 0;bottom: 0;left: 50%;z-index: 0;}#sk-container-id-3 div.sk-serial {display: flex;flex-direction: column;align-items: center;background-color: white;padding-right: 0.2em;padding-left: 0.2em;position: relative;}#sk-container-id-3 div.sk-item {position: relative;z-index: 1;}#sk-container-id-3 div.sk-parallel {display: flex;align-items: stretch;justify-content: center;background-color: white;position: relative;}#sk-container-id-3 div.sk-item::before, #sk-container-id-3 div.sk-parallel-item::before {content: \"\";position: absolute;border-left: 1px solid gray;box-sizing: border-box;top: 0;bottom: 0;left: 50%;z-index: -1;}#sk-container-id-3 div.sk-parallel-item {display: flex;flex-direction: column;z-index: 1;position: relative;background-color: white;}#sk-container-id-3 div.sk-parallel-item:first-child::after {align-self: flex-end;width: 50%;}#sk-container-id-3 div.sk-parallel-item:last-child::after {align-self: flex-start;width: 50%;}#sk-container-id-3 div.sk-parallel-item:only-child::after {width: 0;}#sk-container-id-3 div.sk-dashed-wrapped {border: 1px dashed gray;margin: 0 0.4em 0.5em 0.4em;box-sizing: border-box;padding-bottom: 0.4em;background-color: white;}#sk-container-id-3 div.sk-label label {font-family: monospace;font-weight: bold;display: inline-block;line-height: 1.2em;}#sk-container-id-3 div.sk-label-container {text-align: center;}#sk-container-id-3 div.sk-container {/* jupyter's `normalize.less` sets `[hidden] { display: none; }` but bootstrap.min.css set `[hidden] { display: none !important; }` so we also need the `!important` here to be able to override the default hidden behavior on the sphinx rendered scikit-learn.org. See: https://github.com/scikit-learn/scikit-learn/issues/21755 */display: inline-block !important;position: relative;}#sk-container-id-3 div.sk-text-repr-fallback {display: none;}</style><div id=\"sk-container-id-3\" class=\"sk-top-container\"><div class=\"sk-text-repr-fallback\"><pre>BalancedBaggingClassifier(estimator=AdaBoostClassifier(estimator=DecisionTreeClassifier(ccp_alpha=0.000349297098164335,\n",
       "                                                                                        random_state=1),\n",
       "                                                       n_estimators=120,\n",
       "                                                       random_state=1),\n",
       "                          n_jobs=-1, random_state=1)</pre><b>In a Jupyter environment, please rerun this cell to show the HTML representation or trust the notebook. <br />On GitHub, the HTML representation is unable to render, please try loading this page with nbviewer.org.</b></div><div class=\"sk-container\" hidden><div class=\"sk-item sk-dashed-wrapped\"><div class=\"sk-label-container\"><div class=\"sk-label sk-toggleable\"><input class=\"sk-toggleable__control sk-hidden--visually\" id=\"sk-estimator-id-5\" type=\"checkbox\" ><label for=\"sk-estimator-id-5\" class=\"sk-toggleable__label sk-toggleable__label-arrow\">BalancedBaggingClassifier</label><div class=\"sk-toggleable__content\"><pre>BalancedBaggingClassifier(estimator=AdaBoostClassifier(estimator=DecisionTreeClassifier(ccp_alpha=0.000349297098164335,\n",
       "                                                                                        random_state=1),\n",
       "                                                       n_estimators=120,\n",
       "                                                       random_state=1),\n",
       "                          n_jobs=-1, random_state=1)</pre></div></div></div><div class=\"sk-parallel\"><div class=\"sk-parallel-item\"><div class=\"sk-item\"><div class=\"sk-label-container\"><div class=\"sk-label sk-toggleable\"><input class=\"sk-toggleable__control sk-hidden--visually\" id=\"sk-estimator-id-6\" type=\"checkbox\" ><label for=\"sk-estimator-id-6\" class=\"sk-toggleable__label sk-toggleable__label-arrow\">estimator: AdaBoostClassifier</label><div class=\"sk-toggleable__content\"><pre>AdaBoostClassifier(estimator=DecisionTreeClassifier(ccp_alpha=0.000349297098164335,\n",
       "                                                    random_state=1),\n",
       "                   n_estimators=120, random_state=1)</pre></div></div></div><div class=\"sk-serial\"><div class=\"sk-item sk-dashed-wrapped\"><div class=\"sk-parallel\"><div class=\"sk-parallel-item\"><div class=\"sk-item\"><div class=\"sk-label-container\"><div class=\"sk-label sk-toggleable\"><input class=\"sk-toggleable__control sk-hidden--visually\" id=\"sk-estimator-id-7\" type=\"checkbox\" ><label for=\"sk-estimator-id-7\" class=\"sk-toggleable__label sk-toggleable__label-arrow\">estimator: DecisionTreeClassifier</label><div class=\"sk-toggleable__content\"><pre>DecisionTreeClassifier(ccp_alpha=0.000349297098164335, random_state=1)</pre></div></div></div><div class=\"sk-serial\"><div class=\"sk-item\"><div class=\"sk-estimator sk-toggleable\"><input class=\"sk-toggleable__control sk-hidden--visually\" id=\"sk-estimator-id-8\" type=\"checkbox\" ><label for=\"sk-estimator-id-8\" class=\"sk-toggleable__label sk-toggleable__label-arrow\">DecisionTreeClassifier</label><div class=\"sk-toggleable__content\"><pre>DecisionTreeClassifier(ccp_alpha=0.000349297098164335, random_state=1)</pre></div></div></div></div></div></div></div></div></div></div></div></div></div></div></div>"
      ],
      "text/plain": [
       "BalancedBaggingClassifier(estimator=AdaBoostClassifier(estimator=DecisionTreeClassifier(ccp_alpha=0.000349297098164335,\n",
       "                                                                                        random_state=1),\n",
       "                                                       n_estimators=120,\n",
       "                                                       random_state=1),\n",
       "                          n_jobs=-1, random_state=1)"
      ]
     },
     "execution_count": 22,
     "metadata": {},
     "output_type": "execute_result"
    }
   ],
   "source": [
    "model_ada = BalancedBaggingClassifier(\n",
    "AdaBoostClassifier(DecisionTreeClassifier(ccp_alpha =3.49297098164335e-04 , random_state=1),\n",
    "                           random_state=1,n_estimators=120), n_jobs=-1,random_state=1)\n",
    "model_ada.fit(X_train_sm, y_train_sm)"
   ]
  },
  {
   "cell_type": "code",
   "execution_count": null,
   "metadata": {
    "id": "AniaxSAG_oW4",
    "outputId": "db731425-9788-430b-de37-9662fda9fd3b"
   },
   "outputs": [
    {
     "name": "stdout",
     "output_type": "stream",
     "text": [
      "AUC 0.9934335805815762\n",
      "the recall for this model is : 0.9870872834259562\n",
      "TP 54351\n",
      "TN 41321\n",
      "FP 3191\n",
      "FN 711\n",
      "\n",
      "----------Classification Report------------------------------------\n",
      "              precision    recall  f1-score   support\n",
      "\n",
      "           0    0.98308   0.92831   0.95491     44512\n",
      "           1    0.94454   0.98709   0.96535     55062\n",
      "\n",
      "    accuracy                        0.96081     99574\n",
      "   macro avg    0.96381   0.95770   0.96013     99574\n",
      "weighted avg    0.96177   0.96081   0.96068     99574\n",
      "\n",
      "                   pre       rec       spe        f1       geo       iba       sup\n",
      "\n",
      "          0    0.98308   0.92831   0.98709   0.95491   0.95725   0.91094     44512\n",
      "          1    0.94454   0.98709   0.92831   0.96535   0.95725   0.92171     55062\n",
      "\n",
      "avg / total    0.96177   0.96081   0.95459   0.96068   0.95725   0.91690     99574\n",
      "\n"
     ]
    }
   ],
   "source": [
    "\n",
    "y_pred_ada = model_ada.predict(X_test_sm)\n",
    "probas_ada=model_ada.predict_proba(X_test_sm)\n",
    "model_val(y_test_sm, y_pred_ada, probas_ada[:,1])"
   ]
  },
  {
   "cell_type": "code",
   "execution_count": null,
   "metadata": {
    "id": "zzz0NQ0E_oW5",
    "outputId": "e109c993-caac-438b-d6c5-ef474aac46f4"
   },
   "outputs": [
    {
     "name": "stdout",
     "output_type": "stream",
     "text": [
      "AUC 0.9934335805815762\n",
      "the recall for this model is : 0.9870872834259562\n",
      "TP 54351\n",
      "TN 41321\n",
      "FP 3191\n",
      "FN 711\n",
      "\n",
      "----------Classification Report------------------------------------\n",
      "              precision    recall  f1-score   support\n",
      "\n",
      "           0    0.98308   0.92831   0.95491     44512\n",
      "           1    0.94454   0.98709   0.96535     55062\n",
      "\n",
      "    accuracy                        0.96081     99574\n",
      "   macro avg    0.96381   0.95770   0.96013     99574\n",
      "weighted avg    0.96177   0.96081   0.96068     99574\n",
      "\n",
      "                   pre       rec       spe        f1       geo       iba       sup\n",
      "\n",
      "          0    0.98308   0.92831   0.98709   0.95491   0.95725   0.91094     44512\n",
      "          1    0.94454   0.98709   0.92831   0.96535   0.95725   0.92171     55062\n",
      "\n",
      "avg / total    0.96177   0.96081   0.95459   0.96068   0.95725   0.91690     99574\n",
      "\n"
     ]
    }
   ],
   "source": [
    "y_pred_train_bb = model_ada.predict(X_train_sm)\n",
    "probas_=model_ada.predict_proba(X_test_sm)\n",
    "model_val(y_test_sm, y_pred_ada, probas_[:,1])"
   ]
  },
  {
   "cell_type": "code",
   "execution_count": null,
   "metadata": {
    "id": "k7AAgwVa_oW5",
    "outputId": "df041eda-d203-4636-bb3b-02b4e3109f25"
   },
   "outputs": [
    {
     "data": {
      "image/png": "[encoded data removed]",
      "text/plain": [
       "<Figure size 800x600 with 1 Axes>"
      ]
     },
     "metadata": {},
     "output_type": "display_data"
    }
   ],
   "source": [
    "roc_png(proba =probas_ada,y=y_test_sm, name = 'ROC Curve for Decison Tree with ADA')"
   ]
  },
  {
   "cell_type": "markdown",
   "metadata": {
    "id": "Tuf6no05_oW5"
   },
   "source": [
    "**optimal dt results:**\n",
    "- Test Accuracy = 96.081%.\n",
    "- Test F1-score = 96.013%.\n",
    "- Test Precision = 96.381%."
   ]
  },
  {
   "cell_type": "markdown",
   "metadata": {
    "id": "DJKSBEEq_oW5"
   },
   "source": [
    "### unbalanced"
   ]
  },
  {
   "cell_type": "code",
   "execution_count": null,
   "metadata": {
    "id": "OiuUOs75_oW6",
    "outputId": "1d790293-8169-4140-a527-682d0656cc73"
   },
   "outputs": [
    {
     "name": "stdout",
     "output_type": "stream",
     "text": [
      "AUC 0.9042727869885598\n",
      "the recall for this model is : 0.9014202172096909\n",
      "TP 49634\n",
      "TN 2007\n",
      "FP 955\n",
      "FN 5428\n",
      "\n",
      "----------Classification Report------------------------------------\n",
      "              precision    recall  f1-score   support\n",
      "\n",
      "           0    0.26994   0.67758   0.38607      2962\n",
      "           1    0.98112   0.90142   0.93958     55062\n",
      "\n",
      "    accuracy                        0.88999     58024\n",
      "   macro avg    0.62553   0.78950   0.66283     58024\n",
      "weighted avg    0.94482   0.88999   0.91133     58024\n",
      "\n",
      "                   pre       rec       spe        f1       geo       iba       sup\n",
      "\n",
      "          0    0.26994   0.67758   0.90142   0.38607   0.78153   0.59712      2962\n",
      "          1    0.98112   0.90142   0.67758   0.93958   0.78153   0.62446     55062\n",
      "\n",
      "avg / total    0.94482   0.88999   0.68901   0.91133   0.78153   0.62306     58024\n",
      "\n"
     ]
    }
   ],
   "source": [
    "model_ada_clean = BalancedBaggingClassifier(\n",
    "AdaBoostClassifier(DecisionTreeClassifier(ccp_alpha =3.49297098164335e-04 , random_state=1),\n",
    "                           random_state=1,n_estimators=120), n_jobs=-1,random_state=1)\n",
    "\n",
    "model_ada_clean.fit(X_train_clean, y_train_clean)\n",
    "\n",
    "\n",
    "y_pred_ada_clean = model_ada_clean.predict(X_test_clean)\n",
    "probas_ada_clean = model_ada_clean.predict_proba(X_test_clean)\n",
    "model_val(y_test_clean, y_pred_ada_clean, probas_ada_clean[:,1])"
   ]
  },
  {
   "cell_type": "markdown",
   "metadata": {
    "id": "kx-Q-TLl_oW6"
   },
   "source": [
    "**unbalanced optimal dt results:**\n",
    "- Test Accuracy = 88.276%.\n",
    "- Test F1-score = 62.402%.\n",
    "- Test Precision = 66.139%."
   ]
  },
  {
   "cell_type": "markdown",
   "metadata": {
    "id": "_y4PDzKf_oW6"
   },
   "source": [
    "<a id='MLP'></a>\n",
    "## 1.3 Multi-Layer Perceptron (MLP) Classifier\n",
    "\n",
    "The Multi-Layer Perceptron (MLP) classifier is a type of artificial neural network that is widely used for classification tasks. It consists of multiple layers of interconnected neurons and uses backpropagation to optimize the weights. The MLPClassifier is used for this particular task.\n",
    "\n",
    "### Model Hyperparameters\n",
    "\n",
    "The MLP classifier used for this task was configured with the following hyperparameters:\n",
    "\n",
    "| Hyperparameter       | Value     | Description                                                |\n",
    "|---------------------|-----------|------------------------------------------------------------|\n",
    "| solver              | adam      | The solver algorithm for weight optimization.               |\n",
    "| activation          | relu      | The activation function for hidden layers.                  |\n",
    "| hidden_layer_sizes  | 120       | The number of neurons in the hidden layers.                 |\n",
    "| random_state        | 1         | Seed value for random number generation.                    |\n",
    "\n",
    "These hyperparameters were chosen based on experimentation and domain knowledge to achieve the best performance for the given task.\n",
    "\n"
   ]
  },
  {
   "cell_type": "markdown",
   "metadata": {
    "id": "2kqkPLkh_oW6"
   },
   "source": [
    "### balanced"
   ]
  },
  {
   "cell_type": "code",
   "execution_count": null,
   "metadata": {
    "id": "B0uq24HU_oW7",
    "outputId": "6e0c64e1-ea4c-40f0-efc9-075b4aa020c0"
   },
   "outputs": [
    {
     "data": {
      "text/html": [
       "<style>#sk-container-id-4 {color: black;background-color: white;}#sk-container-id-4 pre{padding: 0;}#sk-container-id-4 div.sk-toggleable {background-color: white;}#sk-container-id-4 label.sk-toggleable__label {cursor: pointer;display: block;width: 100%;margin-bottom: 0;padding: 0.3em;box-sizing: border-box;text-align: center;}#sk-container-id-4 label.sk-toggleable__label-arrow:before {content: \"▸\";float: left;margin-right: 0.25em;color: #696969;}#sk-container-id-4 label.sk-toggleable__label-arrow:hover:before {color: black;}#sk-container-id-4 div.sk-estimator:hover label.sk-toggleable__label-arrow:before {color: black;}#sk-container-id-4 div.sk-toggleable__content {max-height: 0;max-width: 0;overflow: hidden;text-align: left;background-color: #f0f8ff;}#sk-container-id-4 div.sk-toggleable__content pre {margin: 0.2em;color: black;border-radius: 0.25em;background-color: #f0f8ff;}#sk-container-id-4 input.sk-toggleable__control:checked~div.sk-toggleable__content {max-height: 200px;max-width: 100%;overflow: auto;}#sk-container-id-4 input.sk-toggleable__control:checked~label.sk-toggleable__label-arrow:before {content: \"▾\";}#sk-container-id-4 div.sk-estimator input.sk-toggleable__control:checked~label.sk-toggleable__label {background-color: #d4ebff;}#sk-container-id-4 div.sk-label input.sk-toggleable__control:checked~label.sk-toggleable__label {background-color: #d4ebff;}#sk-container-id-4 input.sk-hidden--visually {border: 0;clip: rect(1px 1px 1px 1px);clip: rect(1px, 1px, 1px, 1px);height: 1px;margin: -1px;overflow: hidden;padding: 0;position: absolute;width: 1px;}#sk-container-id-4 div.sk-estimator {font-family: monospace;background-color: #f0f8ff;border: 1px dotted black;border-radius: 0.25em;box-sizing: border-box;margin-bottom: 0.5em;}#sk-container-id-4 div.sk-estimator:hover {background-color: #d4ebff;}#sk-container-id-4 div.sk-parallel-item::after {content: \"\";width: 100%;border-bottom: 1px solid gray;flex-grow: 1;}#sk-container-id-4 div.sk-label:hover label.sk-toggleable__label {background-color: #d4ebff;}#sk-container-id-4 div.sk-serial::before {content: \"\";position: absolute;border-left: 1px solid gray;box-sizing: border-box;top: 0;bottom: 0;left: 50%;z-index: 0;}#sk-container-id-4 div.sk-serial {display: flex;flex-direction: column;align-items: center;background-color: white;padding-right: 0.2em;padding-left: 0.2em;position: relative;}#sk-container-id-4 div.sk-item {position: relative;z-index: 1;}#sk-container-id-4 div.sk-parallel {display: flex;align-items: stretch;justify-content: center;background-color: white;position: relative;}#sk-container-id-4 div.sk-item::before, #sk-container-id-4 div.sk-parallel-item::before {content: \"\";position: absolute;border-left: 1px solid gray;box-sizing: border-box;top: 0;bottom: 0;left: 50%;z-index: -1;}#sk-container-id-4 div.sk-parallel-item {display: flex;flex-direction: column;z-index: 1;position: relative;background-color: white;}#sk-container-id-4 div.sk-parallel-item:first-child::after {align-self: flex-end;width: 50%;}#sk-container-id-4 div.sk-parallel-item:last-child::after {align-self: flex-start;width: 50%;}#sk-container-id-4 div.sk-parallel-item:only-child::after {width: 0;}#sk-container-id-4 div.sk-dashed-wrapped {border: 1px dashed gray;margin: 0 0.4em 0.5em 0.4em;box-sizing: border-box;padding-bottom: 0.4em;background-color: white;}#sk-container-id-4 div.sk-label label {font-family: monospace;font-weight: bold;display: inline-block;line-height: 1.2em;}#sk-container-id-4 div.sk-label-container {text-align: center;}#sk-container-id-4 div.sk-container {/* jupyter's `normalize.less` sets `[hidden] { display: none; }` but bootstrap.min.css set `[hidden] { display: none !important; }` so we also need the `!important` here to be able to override the default hidden behavior on the sphinx rendered scikit-learn.org. See: https://github.com/scikit-learn/scikit-learn/issues/21755 */display: inline-block !important;position: relative;}#sk-container-id-4 div.sk-text-repr-fallback {display: none;}</style><div id=\"sk-container-id-4\" class=\"sk-top-container\"><div class=\"sk-text-repr-fallback\"><pre>MLPClassifier(hidden_layer_sizes=120, random_state=1)</pre><b>In a Jupyter environment, please rerun this cell to show the HTML representation or trust the notebook. <br />On GitHub, the HTML representation is unable to render, please try loading this page with nbviewer.org.</b></div><div class=\"sk-container\" hidden><div class=\"sk-item\"><div class=\"sk-estimator sk-toggleable\"><input class=\"sk-toggleable__control sk-hidden--visually\" id=\"sk-estimator-id-9\" type=\"checkbox\" checked><label for=\"sk-estimator-id-9\" class=\"sk-toggleable__label sk-toggleable__label-arrow\">MLPClassifier</label><div class=\"sk-toggleable__content\"><pre>MLPClassifier(hidden_layer_sizes=120, random_state=1)</pre></div></div></div></div></div>"
      ],
      "text/plain": [
       "MLPClassifier(hidden_layer_sizes=120, random_state=1)"
      ]
     },
     "execution_count": 32,
     "metadata": {},
     "output_type": "execute_result"
    }
   ],
   "source": [
    "model_MLP =  MLPClassifier(solver='adam', activation= 'relu', hidden_layer_sizes=120, random_state=1 )\n",
    "#BalancedBaggingClassifier(MLPClassifier(solver='adam', activation= 'relu', hidden_layer_sizes=120, random_state=1 ), n_jobs=-1,random_state=1)\n",
    "model_MLP.fit(sc_train, y_train_sm)"
   ]
  },
  {
   "cell_type": "code",
   "execution_count": null,
   "metadata": {
    "id": "7emAC3KU_oW7",
    "outputId": "66846a96-515a-4d06-d56e-fc48a69dcba5"
   },
   "outputs": [
    {
     "name": "stdout",
     "output_type": "stream",
     "text": [
      "AUC 0.9801583062362406\n",
      "the recall for this model is : 0.9462242562929062\n",
      "TP 52101\n",
      "TN 41216\n",
      "FP 3296\n",
      "FN 2961\n",
      "\n",
      "----------Classification Report------------------------------------\n",
      "              precision    recall  f1-score   support\n",
      "\n",
      "           0    0.93297   0.92595   0.92945     44512\n",
      "           1    0.94050   0.94622   0.94335     55062\n",
      "\n",
      "    accuracy                        0.93716     99574\n",
      "   macro avg    0.93674   0.93609   0.93640     99574\n",
      "weighted avg    0.93714   0.93716   0.93714     99574\n",
      "\n",
      "                   pre       rec       spe        f1       geo       iba       sup\n",
      "\n",
      "          0    0.93297   0.92595   0.94622   0.92945   0.93603   0.87438     44512\n",
      "          1    0.94050   0.94622   0.92595   0.94335   0.93603   0.87793     55062\n",
      "\n",
      "avg / total    0.93714   0.93716   0.93501   0.93714   0.93603   0.87635     99574\n",
      "\n"
     ]
    }
   ],
   "source": [
    "#0.95314   0.95167   0.94394   0.95146   0.94710   0.89769     99550\n",
    "y_pred = model_MLP.predict(sc_test)\n",
    "probas_MLP=model_MLP.predict_proba(sc_test)\n",
    "model_val(y_test_sm, y_pred, probas_MLP[:,1])"
   ]
  },
  {
   "cell_type": "code",
   "execution_count": null,
   "metadata": {
    "id": "Xv5qVBgv_oW7",
    "outputId": "b7abe39e-42e3-438e-f55f-320f7133bce8"
   },
   "outputs": [
    {
     "name": "stdout",
     "output_type": "stream",
     "text": [
      "AUC 0.989310675784603\n",
      "the recall for this model is : 0.9489121354109913\n",
      "TP 104498\n",
      "TN 91492\n",
      "FP 5008\n",
      "FN 5626\n",
      "\n",
      "----------Classification Report------------------------------------\n",
      "              precision    recall  f1-score   support\n",
      "\n",
      "           0    0.94207   0.94810   0.94508     96500\n",
      "           1    0.95427   0.94891   0.95158    110124\n",
      "\n",
      "    accuracy                        0.94853    206624\n",
      "   macro avg    0.94817   0.94851   0.94833    206624\n",
      "weighted avg    0.94857   0.94853   0.94854    206624\n",
      "\n",
      "                   pre       rec       spe        f1       geo       iba       sup\n",
      "\n",
      "          0    0.94207   0.94810   0.94891   0.94508   0.94851   0.89959     96500\n",
      "          1    0.95427   0.94891   0.94810   0.95158   0.94851   0.89974    110124\n",
      "\n",
      "avg / total    0.94857   0.94853   0.94848   0.94854   0.94851   0.89967    206624\n",
      "\n"
     ]
    }
   ],
   "source": [
    "#0.96789   0.96744   0.96495   0.96739   0.96601   0.93341\n",
    "y_pred_train_cc = model_MLP.predict(sc_train)\n",
    "probas_tr=model_MLP.predict_proba(sc_train)\n",
    "model_val(y_train_sm, y_pred_train_cc,probas_tr[:,1])"
   ]
  },
  {
   "cell_type": "code",
   "execution_count": null,
   "metadata": {
    "id": "PmCaGM5G_oW7",
    "outputId": "0446762a-b93d-4b87-bb7e-d7aabdfff0f2"
   },
   "outputs": [
    {
     "data": {
      "image/png": "[encoded data removed]",
      "text/plain": [
       "<Figure size 800x600 with 1 Axes>"
      ]
     },
     "metadata": {},
     "output_type": "display_data"
    }
   ],
   "source": [
    "roc_png(proba =probas_MLP,y=y_test_sm, name = 'ROC Curve for MLP')"
   ]
  },
  {
   "cell_type": "markdown",
   "metadata": {
    "id": "Dw82Ou1S_oW8"
   },
   "source": [
    "**MLP results:**\n",
    "- Test Accuracy = 95.295%.\n",
    "- Test F1-score = 95.215%.\n",
    "- Test Precision = 95.546%."
   ]
  },
  {
   "cell_type": "markdown",
   "metadata": {
    "id": "5XIN3XEn_oW8"
   },
   "source": [
    "### unbalanced"
   ]
  },
  {
   "cell_type": "code",
   "execution_count": null,
   "metadata": {
    "id": "6GhK022m_oW8",
    "outputId": "f687177f-28bd-4632-8bba-15a9ff892397"
   },
   "outputs": [
    {
     "name": "stdout",
     "output_type": "stream",
     "text": [
      "AUC 0.8341952246771799\n",
      "the recall for this model is : 0.9921361374450619\n",
      "TP 54629\n",
      "TN 463\n",
      "FP 2499\n",
      "FN 433\n",
      "\n",
      "----------Classification Report------------------------------------\n",
      "              precision    recall  f1-score   support\n",
      "\n",
      "           0    0.51674   0.15631   0.24002      2962\n",
      "           1    0.95626   0.99214   0.97387     55062\n",
      "\n",
      "    accuracy                        0.94947     58024\n",
      "   macro avg    0.73650   0.57422   0.60694     58024\n",
      "weighted avg    0.93382   0.94947   0.93640     58024\n",
      "\n",
      "                   pre       rec       spe        f1       geo       iba       sup\n",
      "\n",
      "          0    0.51674   0.15631   0.99214   0.24002   0.39381   0.14212      2962\n",
      "          1    0.95626   0.99214   0.15631   0.97387   0.39381   0.16805     55062\n",
      "\n",
      "avg / total    0.93382   0.94947   0.19898   0.93640   0.39381   0.16672     58024\n",
      "\n"
     ]
    }
   ],
   "source": [
    "model_MLP_clean =  MLPClassifier(solver='adam', activation= 'relu', hidden_layer_sizes=120, random_state=1 )\n",
    "#BalancedBaggingClassifier(MLPClassifier(solver='adam', activation= 'relu', hidden_layer_sizes=120, random_state=1 ), n_jobs=-1,random_state=1)\n",
    "model_MLP_clean.fit(sc_train_clean, y_train_clean)\n",
    "\n",
    "\n",
    "y_pred_mlp_clean = model_MLP_clean.predict(sc_test_clean)\n",
    "probas_mlp_clean = model_MLP_clean.predict_proba(sc_test_clean)\n",
    "model_val(y_test_clean, y_pred_mlp_clean, probas_mlp_clean[:,1])"
   ]
  },
  {
   "cell_type": "markdown",
   "metadata": {
    "id": "qlt8XIQx_oW8"
   },
   "source": [
    "**unbalanced MLP results:**\n",
    "- Test Accuracy = 91.576%.\n",
    "- Test F1-score = 68.244%.\n",
    "- Test Precision = 64.762%."
   ]
  },
  {
   "cell_type": "markdown",
   "metadata": {
    "id": "nZyiZ0qP_oW8"
   },
   "source": [
    "<a id='rnn'></a>\n",
    "## DRNN 1.4"
   ]
  },
  {
   "cell_type": "code",
   "execution_count": null,
   "metadata": {
    "id": "uCLQgPEu_oW8"
   },
   "outputs": [],
   "source": [
    "class Rnn_model(nn.Module): #best perofmer is rnn + 2 fc prelu + classifier layer 100 hiddenshape\n",
    "    def __init__(self, input_shape:int, hidden_shape:int, output_shape:int):\n",
    "        super(Rnn_model,self).__init__()\n",
    "        self.next_shape = hidden_shape*2\n",
    "        self.rnn =nn.RNN(input_shape, hidden_shape, batch_first=True)\n",
    "\n",
    "\n",
    "        self.con2 = nn.Sequential(\n",
    "\n",
    "            nn.Linear(in_features=hidden_shape,out_features=hidden_shape),\n",
    "            nn.PReLU(),)\n",
    "\n",
    "        self.classifer = nn.Sequential(\n",
    "            nn.Linear(in_features=self.next_shape*2,out_features=self.next_shape*2),\n",
    "            nn.PReLU(),\n",
    "            nn.Linear(in_features=self.next_shape*2,out_features=self.next_shape),\n",
    "            nn.PReLU(),\n",
    "            nn.Linear(in_features=self.next_shape,out_features=hidden_shape),\n",
    "            nn.PReLU(),\n",
    ")\n",
    "        self.classifer2 = nn.Linear(in_features=hidden_shape ,out_features=output_shape)\n",
    "\n",
    "    def forward(self,x):\n",
    "        z, a = self.rnn(x)\n",
    "        z = z.contiguous().view(-1, self.next_shape//2)\n",
    "        z = self.con2(z)\n",
    "        z = self.classifer2(z)\n",
    "        return z"
   ]
  },
  {
   "cell_type": "code",
   "execution_count": null,
   "metadata": {
    "id": "qRlplfdo_oW9"
   },
   "outputs": [],
   "source": [
    "import skorch\n",
    "class NeuralNetBinaryClassifier(skorch.NeuralNetBinaryClassifier):\n",
    "    def fit(self, X, y, **fit_params):\n",
    "        return super().fit(X, np.asarray(y, dtype=np.float32), **fit_params)"
   ]
  },
  {
   "cell_type": "markdown",
   "metadata": {
    "id": "OKpuYDEI_oW9"
   },
   "source": [
    "### balanced"
   ]
  },
  {
   "cell_type": "code",
   "execution_count": null,
   "metadata": {
    "id": "iFJWqPfG_oW9",
    "outputId": "10a452f4-7949-4655-e914-7e78494754ba",
    "scrolled": true
   },
   "outputs": [
    {
     "data": {
      "text/plain": [
       "<class '__main__.NeuralNetBinaryClassifier'>[initialized](\n",
       "  module_=Rnn_model(\n",
       "    (rnn): RNN(53, 100, batch_first=True)\n",
       "    (con2): Sequential(\n",
       "      (0): Linear(in_features=100, out_features=100, bias=True)\n",
       "      (1): PReLU(num_parameters=1)\n",
       "    )\n",
       "    (classifer): Sequential(\n",
       "      (0): Linear(in_features=400, out_features=400, bias=True)\n",
       "      (1): PReLU(num_parameters=1)\n",
       "      (2): Linear(in_features=400, out_features=200, bias=True)\n",
       "      (3): PReLU(num_parameters=1)\n",
       "      (4): Linear(in_features=200, out_features=100, bias=True)\n",
       "      (5): PReLU(num_parameters=1)\n",
       "    )\n",
       "    (classifer2): Linear(in_features=100, out_features=1, bias=True)\n",
       "  ),\n",
       ")"
      ]
     },
     "execution_count": 17,
     "metadata": {},
     "output_type": "execute_result"
    }
   ],
   "source": [
    "torch.cuda.manual_seed(42)\n",
    "torch.manual_seed(42)\n",
    "model_rnn= NeuralNetBinaryClassifier(Rnn_model(53,100,1),\n",
    "    criterion=torch.nn.BCEWithLogitsLoss,\n",
    "    optimizer=torch.optim.Adam,\n",
    "    lr=0.001,\n",
    "    max_epochs=4,\n",
    "    batch_size=700,\n",
    "    verbose=False\n",
    "\n",
    ")\n",
    "X_train_ = torch.tensor(sc_train,dtype=torch.float32)\n",
    "y_train_ = torch.tensor(y_train_sm,dtype=torch.float32)\n",
    "model_rnn.fit(X_train_, y_train_)\n",
    "\n"
   ]
  },
  {
   "cell_type": "code",
   "execution_count": null,
   "metadata": {
    "id": "TlRmEm-5_oW9",
    "outputId": "ffd39c85-0967-4640-a626-d4210edabd7d"
   },
   "outputs": [
    {
     "name": "stdout",
     "output_type": "stream",
     "text": [
      "AUC 0.9737716403577187\n",
      "the recall for this model is : 0.9990192873488069\n",
      "TP 55008\n",
      "TN 41527\n",
      "FP 2985\n",
      "FN 54\n",
      "\n",
      "----------Classification Report------------------------------------\n",
      "              precision    recall  f1-score   support\n",
      "\n",
      "         0.0    0.99870   0.93294   0.96470     44512\n",
      "         1.0    0.94853   0.99902   0.97312     55062\n",
      "\n",
      "    accuracy                        0.96948     99574\n",
      "   macro avg    0.97361   0.96598   0.96891     99574\n",
      "weighted avg    0.97096   0.96948   0.96936     99574\n",
      "\n",
      "                   pre       rec       spe        f1       geo       iba       sup\n",
      "\n",
      "        0.0    0.99870   0.93294   0.99902   0.96470   0.96541   0.92587     44512\n",
      "        1.0    0.94853   0.99902   0.93294   0.97312   0.96541   0.93818     55062\n",
      "\n",
      "avg / total    0.97096   0.96948   0.96248   0.96936   0.96541   0.93268     99574\n",
      "\n"
     ]
    }
   ],
   "source": [
    "X_test_ = torch.tensor(sc_test,dtype=torch.float32)\n",
    "y_test_ = torch.tensor(y_test_sm,dtype=torch.float32)\n",
    "\n",
    "y_pred_rnn = model_rnn.predict(X_test_)\n",
    "probas_rnn = model_rnn.predict_proba(X_test_)\n",
    "model_val(y_test_, y_pred_rnn, probas_rnn[:,1])"
   ]
  },
  {
   "cell_type": "code",
   "execution_count": null,
   "metadata": {
    "id": "Q8tiRq1J_oW9",
    "outputId": "fa22daf6-a105-4c29-ac6e-cc2706c47d38"
   },
   "outputs": [
    {
     "data": {
      "image/png": "[encoded data removed]",
      "text/plain": [
       "<Figure size 800x600 with 1 Axes>"
      ]
     },
     "metadata": {},
     "output_type": "display_data"
    }
   ],
   "source": [
    "roc_png(proba =probas_rnn,y=y_test_sm, name = 'ROC Curve for DRNN')"
   ]
  },
  {
   "cell_type": "markdown",
   "metadata": {
    "id": "Yr1kzklp_oW-"
   },
   "source": [
    "**DRNN results:**\n",
    "- Test Accuracy = 96.948%.\n",
    "- Test F1-score = 96.891%.\n",
    "- Test Precision = 97.361%."
   ]
  },
  {
   "cell_type": "markdown",
   "metadata": {
    "id": "aSrrAw-U_oW-"
   },
   "source": [
    "### unbalanced"
   ]
  },
  {
   "cell_type": "code",
   "execution_count": null,
   "metadata": {
    "id": "l_my0e01_oW-",
    "outputId": "fff0fc70-b1e1-4046-8d4d-605632ef7d18"
   },
   "outputs": [
    {
     "data": {
      "text/plain": [
       "<class 'skorch.classifier.NeuralNetBinaryClassifier'>[initialized](\n",
       "  module_=Rnn_model(\n",
       "    (rnn): RNN(53, 100, batch_first=True)\n",
       "    (con2): Sequential(\n",
       "      (0): Linear(in_features=100, out_features=100, bias=True)\n",
       "      (1): PReLU(num_parameters=1)\n",
       "    )\n",
       "    (classifer): Sequential(\n",
       "      (0): Linear(in_features=400, out_features=400, bias=True)\n",
       "      (1): PReLU(num_parameters=1)\n",
       "      (2): Linear(in_features=400, out_features=200, bias=True)\n",
       "      (3): PReLU(num_parameters=1)\n",
       "      (4): Linear(in_features=200, out_features=100, bias=True)\n",
       "      (5): PReLU(num_parameters=1)\n",
       "    )\n",
       "    (classifer2): Linear(in_features=100, out_features=1, bias=True)\n",
       "  ),\n",
       ")"
      ]
     },
     "execution_count": 24,
     "metadata": {},
     "output_type": "execute_result"
    }
   ],
   "source": [
    "torch.cuda.manual_seed(42)\n",
    "torch.manual_seed(42)\n",
    "model_rnn_clean= NeuralNetBinaryClassifier(Rnn_model(53,100,1),\n",
    "    criterion=torch.nn.BCEWithLogitsLoss,\n",
    "    optimizer=torch.optim.Adam,\n",
    "    lr=0.001,\n",
    "    max_epochs=4,\n",
    "    batch_size=700,\n",
    "    verbose=False\n",
    "\n",
    ")\n",
    "X_train_clean = torch.tensor(sc_train_clean,dtype=torch.float32)\n",
    "y_train_clean = torch.tensor(y_train_clean,dtype=torch.float32)\n",
    "model_rnn_clean.fit(X_train_clean, y_train_clean)"
   ]
  },
  {
   "cell_type": "code",
   "execution_count": null,
   "metadata": {
    "id": "cAErUKEl_oW-",
    "outputId": "c026f365-7a8e-4ae0-f721-709209a0a279"
   },
   "outputs": [
    {
     "name": "stdout",
     "output_type": "stream",
     "text": [
      "AUC 0.7255950084725558\n",
      "the recall for this model is : 0.9998910319276452\n",
      "TP 55056\n",
      "TN 0\n",
      "FP 2962\n",
      "FN 6\n",
      "\n",
      "----------Classification Report------------------------------------\n",
      "              precision    recall  f1-score   support\n",
      "\n",
      "         0.0    0.00000   0.00000   0.00000      2962\n",
      "         1.0    0.94895   0.99989   0.97375     55062\n",
      "\n",
      "    accuracy                        0.94885     58024\n",
      "   macro avg    0.47447   0.49995   0.48688     58024\n",
      "weighted avg    0.90051   0.94885   0.92405     58024\n",
      "\n",
      "                   pre       rec       spe        f1       geo       iba       sup\n",
      "\n",
      "        0.0    0.00000   0.00000   0.99989   0.00000   0.00000   0.00000      2962\n",
      "        1.0    0.94895   0.99989   0.00000   0.97375   0.00000   0.00000     55062\n",
      "\n",
      "avg / total    0.90051   0.94885   0.05104   0.92405   0.00000   0.00000     58024\n",
      "\n"
     ]
    }
   ],
   "source": [
    "X_test_clean = torch.tensor(sc_test_clean,dtype=torch.float32)\n",
    "y_test_clean = torch.tensor(y_test_clean,dtype=torch.float32)\n",
    "\n",
    "y_pred_rnn_clean = model_rnn_clean.predict(X_test_clean)\n",
    "probas_rnn_clean = model_rnn_clean.predict_proba(X_test_clean)\n",
    "model_val(y_test_clean, y_pred_rnn_clean, probas_rnn_clean[:,1])"
   ]
  },
  {
   "cell_type": "markdown",
   "metadata": {
    "id": "1BQNTugr_oW-"
   },
   "source": [
    "**unbalanced DRNN results:**\n",
    "- Test Accuracy = 81.230%.\n",
    "- Test F1-score = 49.075%.\n",
    "- Test Precision = 50.369%."
   ]
  },
  {
   "cell_type": "markdown",
   "metadata": {
    "id": "RzQPD32D_oW_"
   },
   "source": [
    "<a id='xgb'></a>\n",
    "\n",
    "## 1.5 XGBoost Classifier\n",
    "\n",
    "XGBoost (Extreme Gradient Boosting) is a popular gradient boosting framework that is known for its efficiency and effectiveness in solving machine learning problems. It is based on the gradient boosting algorithm and provides high predictive performance. The XGBoost Classifier is used for this particular task.\n",
    "\n",
    "\n",
    "\n",
    "\n",
    "### Model Hyperparameters\n",
    "\n",
    "The XGBoost classifier used for this task was configured with the following hyperparameters:\n",
    "\n",
    "| Hyperparameter     | Value     | Description                                     |\n",
    "|-------------------|-----------|-------------------------------------------------|\n",
    "| n_estimators      | 110       | Number of boosting rounds (decision trees) to build.  |\n",
    "| max_depth         | 13        | Maximum depth of each decision tree.            |\n",
    "| learning_rate     | 0.2       | Step size shrinkage used in update to prevent overfitting. |\n",
    "| objective         | binary:logitraw | The loss function to be minimized during training. |\n",
    "| max_features      | None      | Maximum number of features to consider for splitting. |\n",
    "| verbosity         | 0         | Verbosity mode for printing messages during training. |\n",
    "| use_label_encoder | False     | Whether to use label encoding for target variables. |\n",
    "| n_jobs            | -1        | Number of parallel threads to use for fitting and predicting. |\n",
    "| random_state      | 0         | Seed value for random number generation.         |\n",
    "\n",
    "These hyperparameters were chosen based on experimentation and domain knowledge to achieve the best performance for the given task.\n",
    "\n",
    "\n",
    "\n"
   ]
  },
  {
   "cell_type": "markdown",
   "metadata": {
    "id": "BPxgO6SV_oW_"
   },
   "source": [
    "### balanced"
   ]
  },
  {
   "cell_type": "code",
   "execution_count": 69,
   "metadata": {
    "id": "6-VYDyaX_oW_",
    "outputId": "d728adba-510f-4c4b-eada-fc8bf23e7b9c"
   },
   "outputs": [
    {
     "name": "stdout",
     "output_type": "stream",
     "text": [
      "AUC 0.9963331891947907\n",
      "the recall for this model is : 0.9851258581235698\n",
      "TP 54243\n",
      "TN 42421\n",
      "FP 2091\n",
      "FN 819\n",
      "\n",
      "----------Classification Report------------------------------------\n",
      "              precision    recall  f1-score   support\n",
      "\n",
      "           0    0.98106   0.95302   0.96684     44512\n",
      "           1    0.96288   0.98513   0.97388     55062\n",
      "\n",
      "    accuracy                        0.97078     99574\n",
      "   macro avg    0.97197   0.96907   0.97036     99574\n",
      "weighted avg    0.97101   0.97078   0.97073     99574\n",
      "\n",
      "                   pre       rec       spe        f1       geo       iba       sup\n",
      "\n",
      "          0    0.98106   0.95302   0.98513   0.96684   0.96894   0.93583     44512\n",
      "          1    0.96288   0.98513   0.95302   0.97388   0.96894   0.94186     55062\n",
      "\n",
      "avg / total    0.97101   0.97078   0.96737   0.97073   0.96894   0.93917     99574\n",
      "\n"
     ]
    }
   ],
   "source": [
    "xg= xgb.XGBClassifier(n_estimators=110, max_depth=13,\n",
    "                    learning_rate=0.2,\n",
    "                    objective='binary:logitraw',\n",
    "                    max_features=None,\n",
    "                    verbosity  = 0,\n",
    "\n",
    "                    use_label_encoder=False,\n",
    "                    n_jobs=-1,\n",
    "                   random_state  = 0 )\n",
    "\n",
    "xg.fit(X_train_sm,y_train_sm)\n",
    "\n",
    "y_pred_xg= xg.predict(X_test_sm)\n",
    "probas_xg=xg.predict_proba(X_test_sm)\n",
    "model_val(y_test_sm, y_pred_xg, probas_xg[:,1])"
   ]
  },
  {
   "cell_type": "code",
   "execution_count": 71,
   "metadata": {},
   "outputs": [
    {
     "data": {
      "image/png": "[encoded data removed]",
      "text/plain": [
       "<Figure size 800x600 with 1 Axes>"
      ]
     },
     "metadata": {},
     "output_type": "display_data"
    }
   ],
   "source": [
    "roc_png(proba =probas_xg[:,1] ,y=y_test_sm, name = 'ROC Curve for XGB')"
   ]
  },
  {
   "cell_type": "markdown",
   "metadata": {},
   "source": [
    "**XGBoost  results:**\n",
    "- Test Accuracy = 97.078%.\n",
    "- Test F1-score = 97.036%.\n",
    "- Test Precision = 97.197%."
   ]
  },
  {
   "cell_type": "markdown",
   "metadata": {
    "id": "3tHXDhiZ_oW_"
   },
   "source": [
    "### unbalanced"
   ]
  },
  {
   "cell_type": "code",
   "execution_count": 70,
   "metadata": {
    "id": "DdCVQ0YT_oW_",
    "outputId": "bcfbb32a-9b11-4810-baa6-bb52f8004c4d"
   },
   "outputs": [
    {
     "name": "stdout",
     "output_type": "stream",
     "text": [
      "AUC 0.9757214879569434\n",
      "the recall for this model is : 0.9851258581235698\n",
      "TP 54243\n",
      "TN 2033\n",
      "FP 929\n",
      "FN 819\n",
      "\n",
      "----------Classification Report------------------------------------\n",
      "              precision    recall  f1-score   support\n",
      "\n",
      "           0    0.71283   0.68636   0.69935      2962\n",
      "           1    0.98316   0.98513   0.98414     55062\n",
      "\n",
      "    accuracy                        0.96987     58024\n",
      "   macro avg    0.84800   0.83574   0.84174     58024\n",
      "weighted avg    0.96936   0.96987   0.96960     58024\n",
      "\n",
      "                   pre       rec       spe        f1       geo       iba       sup\n",
      "\n",
      "          0    0.71283   0.68636   0.98513   0.69935   0.82228   0.65595      2962\n",
      "          1    0.98316   0.98513   0.68636   0.98414   0.82228   0.69635     55062\n",
      "\n",
      "avg / total    0.96936   0.96987   0.70161   0.96960   0.82228   0.69429     58024\n",
      "\n"
     ]
    }
   ],
   "source": [
    "xg_clean = xgb.XGBClassifier(n_estimators=110, max_depth=13,\n",
    "                    learning_rate=0.2,\n",
    "                    objective='binary:logitraw',\n",
    "                    max_features=None,\n",
    "                    verbosity  = 0,\n",
    "\n",
    "                    # tree_method = 'gpu_hist',\n",
    "                    use_label_encoder=False,\n",
    "                    n_jobs=-1,\n",
    "                   random_state  = 0 )\n",
    "\n",
    "xg_clean.fit(X_train_clean,y_train_clean)\n",
    "\n",
    "y_pred_xg_clean = xg.predict(X_test_clean)\n",
    "probas_xg_clean = xg.predict_proba(X_test_clean)\n",
    "model_val(y_test_clean, y_pred_xg_clean, probas_xg_clean[:,1])"
   ]
  },
  {
   "cell_type": "markdown",
   "metadata": {
    "id": "Up_AXoaZAibh"
   },
   "source": [
    "<a id='rf'></a>\n",
    "## 1.6 Random Forest \n",
    "Random Forest is an ensemble learning method that combines multiple decision trees to make predictions. Each decision tree in the ensemble is built on a randomly sampled subset of the training data, and the final prediction is determined by aggregating the predictions of individual trees.\n",
    "\n",
    "\n",
    "### Model Hyperparameters\n",
    "\n",
    "The Optimal Random Forest classifier used for this task was configured with the following hyperparameters:\n",
    "\n",
    "| Hyperparameter     | Value     | Description                                     |\n",
    "|-------------------|-----------|-------------------------------------------------|\n",
    "| n_estimators      | 100        | Number of decision trees in the random forest.  |\n",
    "| max_depth         | 32        | Maximum depth of each decision tree.            |\n",
    "| min_samples_leaf  | 1         | Minimum number of samples required in a leaf node. |\n",
    "| max_features      | None      | Maximum number of features to consider for splitting. |\n",
    "| random_state      | 0         | Seed value for random number generation.         |\n",
    "| criterion         | entropy   | The function to measure the quality of a split. |\n",
    "| min_samples_split | 2         | Minimum number of samples required to split an internal node. |\n",
    "| bootstrap         | True      | Whether to use bootstrap samples when building trees. |\n",
    "| n_jobs            | -1        | Number of jobs to run in parallel for fitting and predicting. |\n"
   ]
  },
  {
   "cell_type": "markdown",
   "metadata": {
    "id": "K6L_Fp7SAwf_"
   },
   "source": [
    "### balanced"
   ]
  },
  {
   "cell_type": "code",
   "execution_count": 12,
   "metadata": {
    "id": "wO2jxQIdAYVT"
   },
   "outputs": [],
   "source": [
    "rf = RandomForestClassifier(n_estimators=17, max_depth=19, min_samples_leaf=1,\n",
    "                               max_features=None, random_state=0,\n",
    "                               criterion='entropy', min_samples_split=2,\n",
    "                               bootstrap=True,n_jobs=-1)"
   ]
  },
  {
   "cell_type": "code",
   "execution_count": 13,
   "metadata": {
    "id": "e5f745ce",
    "outputId": "3ff9d2b0-3dad-498f-ab44-cb5e02efee01"
   },
   "outputs": [
    {
     "name": "stdout",
     "output_type": "stream",
     "text": [
      "AUC 0.9842557341608325\n",
      "TP 53024\n",
      "TN 40169\n",
      "FP 4343\n",
      "FN 2038\n",
      "\n",
      "----------Classification Report------------------------------------\n",
      "              precision    recall  f1-score   support\n",
      "\n",
      "           0    0.95171   0.90243   0.92642     44512\n",
      "           1    0.92429   0.96299   0.94324     55062\n",
      "\n",
      "    accuracy                        0.93592     99574\n",
      "   macro avg    0.93800   0.93271   0.93483     99574\n",
      "weighted avg    0.93655   0.93592   0.93572     99574\n",
      "\n"
     ]
    }
   ],
   "source": [
    "pred_proba, pred = model(rf,X_train_sm,X_test_sm,y_train_sm,y_test_sm)"
   ]
  },
  {
   "cell_type": "code",
   "execution_count": 68,
   "metadata": {
    "colab": {
     "base_uri": "https://localhost:8080/",
     "height": 165
    },
    "id": "8874837b",
    "outputId": "9db0ad3a-dad4-4b2d-fea0-3dd84b71d7cb"
   },
   "outputs": [
    {
     "data": {
      "image/png": "[encoded data removed]",
      "text/plain": [
       "<Figure size 800x600 with 1 Axes>"
      ]
     },
     "metadata": {},
     "output_type": "display_data"
    }
   ],
   "source": [
    "roc_png(proba =pred_proba[:,1] ,y=y_test_sm, name = 'ROC Curve for Random forest')"
   ]
  },
  {
   "cell_type": "markdown",
   "metadata": {},
   "source": [
    "**Random Forest  results:**\n",
    "- Test Accuracy = 93.592%.\n",
    "- Test F1-score = 93.483%.\n",
    "- Test Precision = 93.800%."
   ]
  },
  {
   "cell_type": "markdown",
   "metadata": {
    "id": "sNwzzFkMA0tD"
   },
   "source": [
    "### unbalanced"
   ]
  },
  {
   "cell_type": "code",
   "execution_count": 66,
   "metadata": {},
   "outputs": [],
   "source": [
    "rf_clean = RandomForestClassifier(n_estimators=17, max_depth=19, min_samples_leaf=1,\n",
    "                               max_features=None, random_state=0,\n",
    "                               criterion='entropy', min_samples_split=2,\n",
    "                               bootstrap=True,n_jobs=-1)"
   ]
  },
  {
   "cell_type": "code",
   "execution_count": 67,
   "metadata": {},
   "outputs": [
    {
     "name": "stdout",
     "output_type": "stream",
     "text": [
      "AUC 0.9529085909687567\n",
      "TP 55053\n",
      "TN 432\n",
      "FP 2530\n",
      "FN 9\n",
      "\n",
      "----------Classification Report------------------------------------\n",
      "              precision    recall  f1-score   support\n",
      "\n",
      "           0    0.97959   0.14585   0.25389      2962\n",
      "           1    0.95606   0.99984   0.97746     55062\n",
      "\n",
      "    accuracy                        0.95624     58024\n",
      "   macro avg    0.96783   0.57284   0.61568     58024\n",
      "weighted avg    0.95726   0.95624   0.94052     58024\n",
      "\n"
     ]
    }
   ],
   "source": [
    "rf_pred_proba_clean, rf_pred_clean = model(rf_clean,X_train_clean,X_test_clean,y_train_clean,y_test_clean)"
   ]
  },
  {
   "cell_type": "markdown",
   "metadata": {},
   "source": [
    "## 1.7 Optimal Random Forest "
   ]
  },
  {
   "cell_type": "markdown",
   "metadata": {},
   "source": [
    "### balanced"
   ]
  },
  {
   "cell_type": "code",
   "execution_count": 29,
   "metadata": {
    "id": "9fbea124",
    "scrolled": true
   },
   "outputs": [],
   "source": [
    "rf_op  = BalancedBaggingClassifier(AdaBoostClassifier(\n",
    "    base_estimator=RandomForestClassifier(n_estimators=100, max_depth=32, min_samples_leaf=1,\n",
    "                               max_features=None, random_state=0,\n",
    "                               criterion='entropy', min_samples_split=2,\n",
    "                               bootstrap=True),),n_jobs=-1)"
   ]
  },
  {
   "cell_type": "code",
   "execution_count": 30,
   "metadata": {
    "id": "f4a28ded",
    "outputId": "d52cef1f-8f77-4c45-c3fd-349caaa1469f"
   },
   "outputs": [
    {
     "name": "stdout",
     "output_type": "stream",
     "text": [
      "AUC 0.9908501793847395\n",
      "TP 53783\n",
      "TN 40723\n",
      "FP 3789\n",
      "FN 1279\n",
      "\n",
      "----------Classification Report------------------------------------\n",
      "              precision    recall  f1-score   support\n",
      "\n",
      "           0    0.96955   0.91488   0.94142     44512\n",
      "           1    0.93419   0.97677   0.95500     55062\n",
      "\n",
      "    accuracy                        0.94910     99574\n",
      "   macro avg    0.95187   0.94582   0.94821     99574\n",
      "weighted avg    0.94999   0.94910   0.94893     99574\n",
      "\n",
      "[[1.43405127e-01 8.56594873e-01]\n",
      " [1.20727119e-01 8.79272881e-01]\n",
      " [1.21167334e-01 8.78832666e-01]\n",
      " ...\n",
      " [6.96693542e-01 3.03306458e-01]\n",
      " [9.99999998e-01 1.90380206e-09]\n",
      " [6.85601461e-01 3.14398539e-01]] [1 1 1 ... 0 0 0]\n"
     ]
    }
   ],
   "source": [
    "rf_pred_proba2, rf_pred2 = model(rf_op,X_train_sm,X_test_sm,y_train_sm,y_test_sm)"
   ]
  },
  {
   "cell_type": "code",
   "execution_count": 32,
   "metadata": {
    "id": "24e730af",
    "outputId": "d95b6ba7-5f29-444f-8e1e-c6076e3d9ee1"
   },
   "outputs": [
    {
     "data": {
      "image/png": "[encoded data removed]",
      "text/plain": [
       "<Figure size 800x600 with 1 Axes>"
      ]
     },
     "metadata": {},
     "output_type": "display_data"
    }
   ],
   "source": [
    "roc_png(proba =rf_pred_proba2[:,1] ,y=y_test_sm, name = 'ROC Curve for Random forest & ada')"
   ]
  },
  {
   "cell_type": "markdown",
   "metadata": {},
   "source": [
    "**Optimal Random Forest results:**\n",
    "- Test Accuracy = 94.910%.\n",
    "- Test F1-score = 95.737%.\n",
    "- Test Precision = 95.880%."
   ]
  },
  {
   "cell_type": "markdown",
   "metadata": {},
   "source": [
    "### unbalanced"
   ]
  },
  {
   "cell_type": "code",
   "execution_count": 37,
   "metadata": {},
   "outputs": [],
   "source": [
    "rf_op_clean  = BalancedBaggingClassifier(AdaBoostClassifier(\n",
    "    base_estimator=RandomForestClassifier(n_estimators=100, max_depth=32, min_samples_leaf=1,\n",
    "                               max_features=None, random_state=0,\n",
    "                               criterion='entropy', min_samples_split=2,\n",
    "                               bootstrap=True),),n_jobs=-1)"
   ]
  },
  {
   "cell_type": "code",
   "execution_count": 38,
   "metadata": {},
   "outputs": [
    {
     "name": "stdout",
     "output_type": "stream",
     "text": [
      "AUC 0.8985513776367643\n",
      "TP 43992\n",
      "TN 2413\n",
      "FP 549\n",
      "FN 11070\n",
      "\n",
      "----------Classification Report------------------------------------\n",
      "              precision    recall  f1-score   support\n",
      "\n",
      "           0    0.17897   0.81465   0.29346      2962\n",
      "           1    0.98767   0.79895   0.88335     55062\n",
      "\n",
      "    accuracy                        0.79976     58024\n",
      "   macro avg    0.58332   0.80680   0.58840     58024\n",
      "weighted avg    0.94639   0.79976   0.85323     58024\n",
      "\n"
     ]
    }
   ],
   "source": [
    "rf_pred_proba2_clean, rf_pred2_clean = model(rf_op_clean,X_train_clean,X_test_clean,y_train_clean,y_test_clean)"
   ]
  },
  {
   "cell_type": "markdown",
   "metadata": {
    "id": "hPCChSPj_oW_"
   },
   "source": [
    "<a id='hy'></a>\n",
    "## Hybrid models"
   ]
  },
  {
   "cell_type": "markdown",
   "metadata": {
    "id": "DGQ-AZTq_oXA"
   },
   "source": [
    "\n",
    "## hybrid MLP with Optimal DT 2.1\n",
    "\n",
    "split = 80% for DT and 20% for MLP"
   ]
  },
  {
   "cell_type": "code",
   "execution_count": null,
   "metadata": {
    "id": "jwq-d_8j_oXA"
   },
   "outputs": [],
   "source": [
    "y_mlp = probas_MLP[:,1]\n",
    "y_dt = probas_ada[:,1]\n",
    "\n",
    "y_preds_a = (y_mlp * .2) + (y_dt* .8)"
   ]
  },
  {
   "cell_type": "code",
   "execution_count": null,
   "metadata": {
    "id": "_6vN2UZD_oXA",
    "outputId": "a5aed6aa-c3ee-43c9-e84b-bde2036d83a8"
   },
   "outputs": [
    {
     "name": "stdout",
     "output_type": "stream",
     "text": [
      "AUC 0.9878937994307496\n",
      "the recall for this model is : 0.9556681558969888\n",
      "TP 52621\n",
      "TN 41458\n",
      "FP 3054\n",
      "FN 2441\n",
      "\n",
      "----------Classification Report------------------------------------\n",
      "              precision    recall  f1-score   support\n",
      "\n",
      "           0    0.94440   0.93139   0.93785     44512\n",
      "           1    0.94515   0.95567   0.95038     55062\n",
      "\n",
      "    accuracy                        0.94481     99574\n",
      "   macro avg    0.94477   0.94353   0.94411     99574\n",
      "weighted avg    0.94481   0.94481   0.94478     99574\n",
      "\n",
      "                   pre       rec       spe        f1       geo       iba       sup\n",
      "\n",
      "          0    0.94440   0.93139   0.95567   0.93785   0.94345   0.88794     44512\n",
      "          1    0.94515   0.95567   0.93139   0.95038   0.94345   0.89226     55062\n",
      "\n",
      "avg / total    0.94481   0.94481   0.94224   0.94478   0.94345   0.89033     99574\n",
      "\n"
     ]
    }
   ],
   "source": [
    "y_preds = (y_preds_a > .5 ).astype(int)\n",
    "model_val(y_test_sm, y_preds,y_preds_a)"
   ]
  },
  {
   "cell_type": "code",
   "execution_count": null,
   "metadata": {
    "id": "_oOCZakN_oXA",
    "outputId": "8b75124c-9311-4fa9-9f57-502a76a7452a"
   },
   "outputs": [
    {
     "name": "stdout",
     "output_type": "stream",
     "text": [
      "AUC 0.9116698870251497\n",
      "the recall for this model is : 0.966528640441684\n",
      "TP 53219\n",
      "TN 1507\n",
      "FP 1455\n",
      "FN 1843\n",
      "\n",
      "----------Classification Report------------------------------------\n",
      "              precision    recall  f1-score   support\n",
      "\n",
      "           0    0.44985   0.50878   0.47750      2962\n",
      "           1    0.97339   0.96653   0.96995     55062\n",
      "\n",
      "    accuracy                        0.94316     58024\n",
      "   macro avg    0.71162   0.73765   0.72372     58024\n",
      "weighted avg    0.94666   0.94316   0.94481     58024\n",
      "\n",
      "                   pre       rec       spe        f1       geo       iba       sup\n",
      "\n",
      "          0    0.44985   0.50878   0.96653   0.47750   0.70125   0.46924      2962\n",
      "          1    0.97339   0.96653   0.50878   0.96995   0.70125   0.51426     55062\n",
      "\n",
      "avg / total    0.94666   0.94316   0.53215   0.94481   0.70125   0.51196     58024\n",
      "\n"
     ]
    }
   ],
   "source": [
    "y_mlp_clean = probas_mlp_clean[:,1]\n",
    "y_dt_clean = probas_ada_clean[:,1]\n",
    "\n",
    "y_preds_a_clean = (y_mlp_clean * .2) + (y_dt_clean* .8)\n",
    "y_preds_clean = (y_preds_a_clean > .5 ).astype(int)\n",
    "model_val(y_test_clean, y_preds_clean,y_preds_a_clean)"
   ]
  },
  {
   "cell_type": "code",
   "execution_count": null,
   "metadata": {
    "id": "a6zdL6Nf_oXB",
    "outputId": "829e5854-882d-48af-fa7c-a2212cb72f46"
   },
   "outputs": [
    {
     "data": {
      "image/png": "[encoded data removed]",
      "text/plain": [
       "<Figure size 800x600 with 1 Axes>"
      ]
     },
     "metadata": {},
     "output_type": "display_data"
    }
   ],
   "source": [
    "roc_png(proba =y_preds_a,y=y_test_sm, name = 'ROC Curve for DT with MLP')"
   ]
  },
  {
   "cell_type": "markdown",
   "metadata": {
    "id": "ViECvrRw_oXB"
   },
   "source": [
    "**hybrid MLP & Optimal DT results:**\n",
    "- Test Accuracy = 95.807%.\n",
    "- Test F1-score = 95.737%.\n",
    "- Test Precision = 95.880%."
   ]
  },
  {
   "cell_type": "markdown",
   "metadata": {
    "id": "4kCtfLpN_oXB"
   },
   "source": [
    "## hybrid DRNN with Optimal DT 2.2\n",
    "split = 40% for DT and 60% for DRNN"
   ]
  },
  {
   "cell_type": "code",
   "execution_count": null,
   "metadata": {
    "id": "J8aP8El-_oXB"
   },
   "outputs": [],
   "source": [
    "y_rnn = probas_rnn[:,1]\n",
    "y_dt = probas_ada[:,1]\n",
    "\n",
    "y_preds_Dt_rnn = (y_rnn * .6) + (y_dt* .4)"
   ]
  },
  {
   "cell_type": "code",
   "execution_count": null,
   "metadata": {
    "id": "dLUbsRGM_oXB",
    "outputId": "2b891565-862e-49e1-cdf4-ee69124d1fbb"
   },
   "outputs": [
    {
     "name": "stdout",
     "output_type": "stream",
     "text": [
      "AUC 0.9956017054306288\n",
      "the recall for this model is : 0.9990192873488069\n",
      "TP 55008\n",
      "TN 41528\n",
      "FP 2984\n",
      "FN 54\n",
      "\n",
      "----------Classification Report------------------------------------\n",
      "              precision    recall  f1-score   support\n",
      "\n",
      "           0    0.99870   0.93296   0.96471     44512\n",
      "           1    0.94854   0.99902   0.97313     55062\n",
      "\n",
      "    accuracy                        0.96949     99574\n",
      "   macro avg    0.97362   0.96599   0.96892     99574\n",
      "weighted avg    0.97097   0.96949   0.96937     99574\n",
      "\n",
      "                   pre       rec       spe        f1       geo       iba       sup\n",
      "\n",
      "          0    0.99870   0.93296   0.99902   0.96471   0.96543   0.92589     44512\n",
      "          1    0.94854   0.99902   0.93296   0.97313   0.96543   0.93820     55062\n",
      "\n",
      "avg / total    0.97097   0.96949   0.96249   0.96937   0.96543   0.93270     99574\n",
      "\n"
     ]
    }
   ],
   "source": [
    "y_preds_rnn_dt = (y_preds_Dt_rnn > .5 ).astype(int)\n",
    "model_val(y_test_sm, y_preds_rnn_dt,y_preds_Dt_rnn)"
   ]
  },
  {
   "cell_type": "markdown",
   "metadata": {
    "id": "yX7GPTSL_oXB"
   },
   "source": [
    "**hybrid DRNN & Optimal DT results:**\n",
    "- Test Accuracy = 96.949%.\n",
    "- Test F1-score = 96.892%.\n",
    "- Test Precision = 97.370%."
   ]
  },
  {
   "cell_type": "markdown",
   "metadata": {},
   "source": [
    "## hybrid Random Forest with XGB 2.3"
   ]
  },
  {
   "cell_type": "markdown",
   "metadata": {},
   "source": [
    "split = 60% xgb and 30% for DRNN\n",
    "### balanced"
   ]
  },
  {
   "cell_type": "code",
   "execution_count": 73,
   "metadata": {},
   "outputs": [
    {
     "name": "stdout",
     "output_type": "stream",
     "text": [
      "AUC 0.9963571928367476\n",
      "the recall for this model is : 0.9843449202716937\n",
      "TP 54200\n",
      "TN 42494\n",
      "FP 2018\n",
      "FN 862\n",
      "\n",
      "----------Classification Report------------------------------------\n",
      "              precision    recall  f1-score   support\n",
      "\n",
      "           0    0.98012   0.95466   0.96722     44512\n",
      "           1    0.96410   0.98434   0.97412     55062\n",
      "\n",
      "    accuracy                        0.97108     99574\n",
      "   macro avg    0.97211   0.96950   0.97067     99574\n",
      "weighted avg    0.97126   0.97108   0.97104     99574\n",
      "\n",
      "                   pre       rec       spe        f1       geo       iba       sup\n",
      "\n",
      "          0    0.98012   0.95466   0.98434   0.96722   0.96939   0.93693     44512\n",
      "          1    0.96410   0.98434   0.95466   0.97412   0.96939   0.94251     55062\n",
      "\n",
      "avg / total    0.97126   0.97108   0.96793   0.97104   0.96939   0.94001     99574\n",
      "\n"
     ]
    }
   ],
   "source": [
    "y_xgb = probas_xg[:,1]\n",
    "y_rf = rf_pred_proba2[:,1]\n",
    "\n",
    "y_pred_rf_xgb = (y_xgb * .6) + (y_rf* .3)\n",
    "y_preds_rf_xgb = (y_pred_rf_xgb > .5 ).astype(int)\n",
    "model_val(y_test_sm, y_preds_rf_xgb,y_pred_rf_xgb)"
   ]
  },
  {
   "cell_type": "markdown",
   "metadata": {},
   "source": [
    "### unbalanced"
   ]
  },
  {
   "cell_type": "code",
   "execution_count": 74,
   "metadata": {},
   "outputs": [
    {
     "name": "stdout",
     "output_type": "stream",
     "text": [
      "AUC 0.9758848296994334\n",
      "the recall for this model is : 0.9832370782027533\n",
      "TP 54139\n",
      "TN 2088\n",
      "FP 874\n",
      "FN 923\n",
      "\n",
      "----------Classification Report------------------------------------\n",
      "              precision    recall  f1-score   support\n",
      "\n",
      "           0    0.69346   0.70493   0.69915      2962\n",
      "           1    0.98411   0.98324   0.98367     55062\n",
      "\n",
      "    accuracy                        0.96903     58024\n",
      "   macro avg    0.83879   0.84408   0.84141     58024\n",
      "weighted avg    0.96928   0.96903   0.96915     58024\n",
      "\n",
      "                   pre       rec       spe        f1       geo       iba       sup\n",
      "\n",
      "          0    0.69346   0.70493   0.98324   0.69915   0.83253   0.67382      2962\n",
      "          1    0.98411   0.98324   0.70493   0.98367   0.83253   0.71240     55062\n",
      "\n",
      "avg / total    0.96928   0.96903   0.71914   0.96915   0.83253   0.71043     58024\n",
      "\n"
     ]
    }
   ],
   "source": [
    "y_xgb_clean = probas_xg_clean[:,1]\n",
    "y_rf_clean = rf_pred_proba2_clean[:,1]\n",
    "\n",
    "y_pred_rf_xgb_clean = (y_xgb_clean * .6) + (y_rf_clean* .3)\n",
    "y_preds_rf_xgb_clean = (y_pred_rf_xgb_clean > .5 ).astype(int)\n",
    "model_val(y_test_clean, y_preds_rf_xgb_clean,y_pred_rf_xgb_clean)"
   ]
  },
  {
   "cell_type": "markdown",
   "metadata": {
    "id": "1GsbB48e_oXC"
   },
   "source": [
    "## hybrid DRNN with XGB 2.4"
   ]
  },
  {
   "cell_type": "markdown",
   "metadata": {
    "id": "O-U4SlLt_oXC"
   },
   "source": [
    "split = 35% xgb and 65% for DRNN"
   ]
  },
  {
   "cell_type": "markdown",
   "metadata": {
    "id": "B6jsjzpX_oXC"
   },
   "source": [
    "### balanced"
   ]
  },
  {
   "cell_type": "code",
   "execution_count": null,
   "metadata": {
    "id": "C3DO9NH6_oXC"
   },
   "outputs": [],
   "source": [
    "y_xg = probas_xg[:,1]\n",
    "y_rnn = probas_rnn[:,1]\n",
    "\n",
    "y_preds_a = (y_xg  * .35) + (y_rnn* .65)"
   ]
  },
  {
   "cell_type": "code",
   "execution_count": null,
   "metadata": {
    "id": "p47f2chV_oXC",
    "outputId": "80a7a73c-e095-4a92-b191-6a5d4e0ce8ca"
   },
   "outputs": [
    {
     "name": "stdout",
     "output_type": "stream",
     "text": [
      "[ 1.7993357   1.1106367   2.191417   ... -1.2282809  -1.8141944\n",
      " -0.24791579]\n",
      "AUC 0.9979924397720303\n",
      "the recall for this model is : 0.9947513711815771\n",
      "TP 54773\n",
      "TN 42518\n",
      "FP 1994\n",
      "FN 289\n",
      "\n",
      "----------Classification Report------------------------------------\n",
      "              precision    recall  f1-score   support\n",
      "\n",
      "           0    0.99325   0.95520   0.97385     44512\n",
      "           1    0.96487   0.99475   0.97958     55062\n",
      "\n",
      "    accuracy                        0.97707     99574\n",
      "   macro avg    0.97906   0.97498   0.97672     99574\n",
      "weighted avg    0.97756   0.97707   0.97702     99574\n",
      "\n",
      "                   pre       rec       spe        f1       geo       iba       sup\n",
      "\n",
      "          0    0.99325   0.95520   0.99475   0.97385   0.97478   0.94643     44512\n",
      "          1    0.96487   0.99475   0.95520   0.97958   0.97478   0.95395     55062\n",
      "\n",
      "avg / total    0.97756   0.97707   0.97288   0.97702   0.97478   0.95059     99574\n",
      "\n"
     ]
    }
   ],
   "source": [
    "y_preds_rnn_xg = (y_preds_a > .5 ).astype(int)\n",
    "print(y_preds_a)\n",
    "model_val(y_test_sm,y_preds_rnn_xg, y_preds_a)"
   ]
  },
  {
   "cell_type": "code",
   "execution_count": null,
   "metadata": {
    "id": "_E_IOaDT_oXC",
    "outputId": "1d056de2-cf53-4ee0-fbe6-e4ae58831fec"
   },
   "outputs": [
    {
     "data": {
      "image/png": "[encoded data removed]",
      "text/plain": [
       "<Figure size 800x600 with 1 Axes>"
      ]
     },
     "metadata": {},
     "output_type": "display_data"
    }
   ],
   "source": [
    "roc_png(proba =y_preds_a ,y=y_test_sm, name = 'ROC Curve for DRNN with XGB' )"
   ]
  },
  {
   "cell_type": "markdown",
   "metadata": {
    "id": "5C0XkuzC_oXD"
   },
   "source": [
    "### unbalanced"
   ]
  },
  {
   "cell_type": "code",
   "execution_count": null,
   "metadata": {
    "id": "DYiYNgeT_oXD"
   },
   "outputs": [],
   "source": [
    "y_xg_clean = probas_xg_clean[:,1]\n",
    "y_rnn_clean = probas_rnn_clean[:,1]\n",
    "\n",
    "y_preds_a_clean = (y_xg_clean  * .35) + (y_rnn_clean* .65)"
   ]
  },
  {
   "cell_type": "code",
   "execution_count": null,
   "metadata": {
    "id": "xoakhvk8_oXD",
    "outputId": "d8ac8f01-7d25-4039-9cd1-f0a91e6cfab6",
    "scrolled": false
   },
   "outputs": [
    {
     "name": "stdout",
     "output_type": "stream",
     "text": [
      "AUC 0.9679684390398439\n",
      "the recall for this model is : 0.9922814282082016\n",
      "TP 54637\n",
      "TN 1561\n",
      "FP 1401\n",
      "FN 425\n",
      "\n",
      "----------Classification Report------------------------------------\n",
      "              precision    recall  f1-score   support\n",
      "\n",
      "         0.0    0.78600   0.52701   0.63096      2962\n",
      "         1.0    0.97500   0.99228   0.98356     55062\n",
      "\n",
      "    accuracy                        0.96853     58024\n",
      "   macro avg    0.88050   0.75965   0.80726     58024\n",
      "weighted avg    0.96535   0.96853   0.96556     58024\n",
      "\n",
      "                   pre       rec       spe        f1       geo       iba       sup\n",
      "\n",
      "        0.0    0.78600   0.52701   0.99228   0.63096   0.72315   0.49861      2962\n",
      "        1.0    0.97500   0.99228   0.52701   0.98356   0.72315   0.54727     55062\n",
      "\n",
      "avg / total    0.96535   0.96853   0.55076   0.96556   0.72315   0.54479     58024\n",
      "\n"
     ]
    }
   ],
   "source": [
    "y_preds_rnn_xg_clean = (y_preds_a_clean > .5 ).astype(int)\n",
    "model_val(y_test_clean,y_preds_rnn_xg_clean, y_preds_a_clean)"
   ]
  },
  {
   "cell_type": "markdown",
   "metadata": {
    "id": "5KIpGj31_oXD"
   },
   "source": [
    "<a id='val'></a>\n",
    "## Validation"
   ]
  },
  {
   "cell_type": "markdown",
   "metadata": {
    "id": "O8h6ebSb_oXD"
   },
   "source": [
    "## DT & MLP"
   ]
  },
  {
   "cell_type": "code",
   "execution_count": null,
   "metadata": {
    "id": "6S3XV9Q7_oXD",
    "outputId": "d06ed2c0-36eb-439c-ae3c-6e61003840ec",
    "scrolled": true
   },
   "outputs": [
    {
     "name": "stdout",
     "output_type": "stream",
     "text": [
      "--------------------------------------------------------------------------------\n",
      "Fold : 1\n",
      "TRAIN ROC AUC score for DT model, validation set: 0.9974\n",
      "F1 : 0.9823, Recall : 0.9908 , Precision : 0.9740 , Accuracy : 0.9810\n",
      "[[ 9359   291]\n",
      " [  101 10907]]\n",
      "\n",
      "----------Classification Report------------------------------------\n",
      "              precision    recall  f1-score   support\n",
      "\n",
      "           0    0.98932   0.96984   0.97949      9650\n",
      "           1    0.97401   0.99082   0.98235     11008\n",
      "\n",
      "    accuracy                        0.98102     20658\n",
      "   macro avg    0.98167   0.98033   0.98092     20658\n",
      "weighted avg    0.98117   0.98102   0.98101     20658\n",
      "\n",
      "------------------------------------------------------------------------------------------\n",
      "TRAIN ROC AUC score for MLP model, validation set: 0.9882\n",
      "F1 : 0.9565, Recall : 0.9714 , Precision : 0.9420 ,  Accuracy : 0.9529  \n",
      "[[ 8992   658]\n",
      " [  315 10693]]\n",
      "\n",
      "----------Classification Report------------------------------------\n",
      "              precision    recall  f1-score   support\n",
      "\n",
      "           0    0.96615   0.93181   0.94867      9650\n",
      "           1    0.94203   0.97138   0.95648     11008\n",
      "\n",
      "    accuracy                        0.95290     20658\n",
      "   macro avg    0.95409   0.95160   0.95258     20658\n",
      "weighted avg    0.95330   0.95290   0.95283     20658\n",
      "\n",
      "------------------------------------------------------------------------------------------\n",
      "--------------------------------------------- mlp test  ---------------------------------------------\n",
      "F1 : 0.9563, Recall : 0.9799 , Precision : 0.9338 ,  Accuracy : 0.9505 \n",
      "[[40689  3823]\n",
      " [ 1109 53929]]\n",
      "\n",
      "----------Classification Report------------------------------------\n",
      "              precision    recall  f1-score   support\n",
      "\n",
      "           0    0.97347   0.91411   0.94286     44512\n",
      "           1    0.93380   0.97985   0.95627     55038\n",
      "\n",
      "    accuracy                        0.95046     99550\n",
      "   macro avg    0.95364   0.94698   0.94956     99550\n",
      "weighted avg    0.95154   0.95046   0.95027     99550\n",
      "\n",
      "------------------------------------------------------------------------------------------\n",
      "--------------------------------------------- dt test  ---------------------------------------------\n",
      "F1 : 0.9586, Recall : 0.9956 , Precision : 0.9242 ,  Accuracy : 0.9524 \n",
      "[[40018  4494]\n",
      " [  244 54794]]\n",
      "\n",
      "----------Classification Report------------------------------------\n",
      "              precision    recall  f1-score   support\n",
      "\n",
      "           0    0.99394   0.89904   0.94411     44512\n",
      "           1    0.92420   0.99557   0.95856     55038\n",
      "\n",
      "    accuracy                        0.95241     99550\n",
      "   macro avg    0.95907   0.94730   0.95133     99550\n",
      "weighted avg    0.95538   0.95241   0.95210     99550\n",
      "\n",
      "------------------------------------------------------------------------------------------\n",
      "--------------------------------------------- hybrid ---------------------------------------------\n",
      "ROC AUC score for DT for test set: 0.9943\n",
      "ROC AUC score for MLP model test set: 0.9857\n",
      "ROC AUC score hybrid model test set: 0.9930\n",
      "F1 : 0.9586, Recall : 0.9956 , Precision : 0.9242 ,  Accuracy : 0.9524 \n",
      "[[40018  4494]\n",
      " [  244 54794]]\n",
      "\n",
      "----------Classification Report------------------------------------\n",
      "              precision    recall  f1-score   support\n",
      "\n",
      "           0    0.99394   0.89904   0.94411     44512\n",
      "           1    0.92420   0.99557   0.95856     55038\n",
      "\n",
      "    accuracy                        0.95241     99550\n",
      "   macro avg    0.95907   0.94730   0.95133     99550\n",
      "weighted avg    0.95538   0.95241   0.95210     99550\n",
      "\n",
      "------------------------------------------------------------------------------------------\n",
      "--------------------------------------------------------------------------------\n",
      "Fold : 2\n",
      "TRAIN ROC AUC score for DT model, validation set: 0.9970\n",
      "F1 : 0.9812, Recall : 0.9883 , Precision : 0.9741 , Accuracy : 0.9798\n",
      "[[ 9361   289]\n",
      " [  129 10879]]\n",
      "\n",
      "----------Classification Report------------------------------------\n",
      "              precision    recall  f1-score   support\n",
      "\n",
      "           0    0.98641   0.97005   0.97816      9650\n",
      "           1    0.97412   0.98828   0.98115     11008\n",
      "\n",
      "    accuracy                        0.97977     20658\n",
      "   macro avg    0.98026   0.97917   0.97966     20658\n",
      "weighted avg    0.97986   0.97977   0.97975     20658\n",
      "\n",
      "------------------------------------------------------------------------------------------\n",
      "TRAIN ROC AUC score for MLP model, validation set: 0.9879\n",
      "F1 : 0.9541, Recall : 0.9666 , Precision : 0.9419 ,  Accuracy : 0.9504  \n",
      "[[ 8994   656]\n",
      " [  368 10640]]\n",
      "\n",
      "----------Classification Report------------------------------------\n",
      "              precision    recall  f1-score   support\n",
      "\n",
      "           0    0.96069   0.93202   0.94614      9650\n",
      "           1    0.94193   0.96657   0.95409     11008\n",
      "\n",
      "    accuracy                        0.95043     20658\n",
      "   macro avg    0.95131   0.94930   0.95011     20658\n",
      "weighted avg    0.95069   0.95043   0.95038     20658\n",
      "\n",
      "------------------------------------------------------------------------------------------\n",
      "--------------------------------------------- mlp test  ---------------------------------------------\n",
      "F1 : 0.9547, Recall : 0.9791 , Precision : 0.9314 ,  Accuracy : 0.9486 \n",
      "[[40545  3967]\n",
      " [ 1151 53887]]\n",
      "\n",
      "----------Classification Report------------------------------------\n",
      "              precision    recall  f1-score   support\n",
      "\n",
      "           0    0.97240   0.91088   0.94063     44512\n",
      "           1    0.93143   0.97909   0.95466     55038\n",
      "\n",
      "    accuracy                        0.94859     99550\n",
      "   macro avg    0.95191   0.94498   0.94765     99550\n",
      "weighted avg    0.94975   0.94859   0.94839     99550\n",
      "\n",
      "------------------------------------------------------------------------------------------\n",
      "--------------------------------------------- dt test  ---------------------------------------------\n",
      "F1 : 0.9578, Recall : 0.9951 , Precision : 0.9232 ,  Accuracy : 0.9515 \n",
      "[[39954  4558]\n",
      " [  270 54768]]\n",
      "\n",
      "----------Classification Report------------------------------------\n",
      "              precision    recall  f1-score   support\n",
      "\n",
      "           0    0.99329   0.89760   0.94302     44512\n",
      "           1    0.92317   0.99509   0.95778     55038\n",
      "\n",
      "    accuracy                        0.95150     99550\n",
      "   macro avg    0.95823   0.94635   0.95040     99550\n",
      "weighted avg    0.95452   0.95150   0.95118     99550\n",
      "\n",
      "------------------------------------------------------------------------------------------\n",
      "--------------------------------------------- hybrid ---------------------------------------------\n",
      "ROC AUC score for DT for test set: 0.9944\n",
      "ROC AUC score for MLP model test set: 0.9849\n",
      "ROC AUC score hybrid model test set: 0.9925\n",
      "F1 : 0.9578, Recall : 0.9951 , Precision : 0.9232 ,  Accuracy : 0.9515 \n",
      "[[39954  4558]\n",
      " [  270 54768]]\n",
      "\n",
      "----------Classification Report------------------------------------\n",
      "              precision    recall  f1-score   support\n",
      "\n",
      "           0    0.99329   0.89760   0.94302     44512\n",
      "           1    0.92317   0.99509   0.95778     55038\n",
      "\n",
      "    accuracy                        0.95150     99550\n",
      "   macro avg    0.95823   0.94635   0.95040     99550\n",
      "weighted avg    0.95452   0.95150   0.95118     99550\n",
      "\n",
      "------------------------------------------------------------------------------------------\n",
      "--------------------------------------------------------------------------------\n",
      "Fold : 3\n",
      "TRAIN ROC AUC score for DT model, validation set: 0.9973\n",
      "F1 : 0.9829, Recall : 0.9908 , Precision : 0.9751 , Accuracy : 0.9817\n",
      "[[ 9372   278]\n",
      " [  101 10907]]\n",
      "\n",
      "----------Classification Report------------------------------------\n",
      "              precision    recall  f1-score   support\n",
      "\n",
      "           0    0.98934   0.97119   0.98018      9650\n",
      "           1    0.97515   0.99082   0.98292     11008\n",
      "\n",
      "    accuracy                        0.98165     20658\n",
      "   macro avg    0.98224   0.98101   0.98155     20658\n",
      "weighted avg    0.98178   0.98165   0.98164     20658\n",
      "\n",
      "------------------------------------------------------------------------------------------\n",
      "TRAIN ROC AUC score for MLP model, validation set: 0.9887\n",
      "F1 : 0.9561, Recall : 0.9693 , Precision : 0.9432 ,  Accuracy : 0.9526  \n",
      "[[ 9008   642]\n",
      " [  338 10670]]\n",
      "\n",
      "----------Classification Report------------------------------------\n",
      "              precision    recall  f1-score   support\n",
      "\n",
      "           0    0.96383   0.93347   0.94841      9650\n",
      "           1    0.94325   0.96930   0.95609     11008\n",
      "\n",
      "    accuracy                        0.95256     20658\n",
      "   macro avg    0.95354   0.95138   0.95225     20658\n",
      "weighted avg    0.95286   0.95256   0.95250     20658\n",
      "\n",
      "------------------------------------------------------------------------------------------\n",
      "--------------------------------------------- mlp test  ---------------------------------------------\n",
      "F1 : 0.9552, Recall : 0.9785 , Precision : 0.9330 ,  Accuracy : 0.9493 \n",
      "[[40646  3866]\n",
      " [ 1182 53856]]\n",
      "\n",
      "----------Classification Report------------------------------------\n",
      "              precision    recall  f1-score   support\n",
      "\n",
      "           0    0.97174   0.91315   0.94153     44512\n",
      "           1    0.93302   0.97852   0.95523     55038\n",
      "\n",
      "    accuracy                        0.94929     99550\n",
      "   macro avg    0.95238   0.94584   0.94838     99550\n",
      "weighted avg    0.95034   0.94929   0.94911     99550\n",
      "\n",
      "------------------------------------------------------------------------------------------\n",
      "--------------------------------------------- dt test  ---------------------------------------------\n",
      "F1 : 0.9583, Recall : 0.9953 , Precision : 0.9239 ,  Accuracy : 0.9521 \n",
      "[[40003  4509]\n",
      " [  258 54780]]\n",
      "\n",
      "----------Classification Report------------------------------------\n",
      "              precision    recall  f1-score   support\n",
      "\n",
      "           0    0.99359   0.89870   0.94377     44512\n",
      "           1    0.92395   0.99531   0.95830     55038\n",
      "\n",
      "    accuracy                        0.95211     99550\n",
      "   macro avg    0.95877   0.94701   0.95104     99550\n",
      "weighted avg    0.95509   0.95211   0.95180     99550\n",
      "\n",
      "------------------------------------------------------------------------------------------\n",
      "--------------------------------------------- hybrid ---------------------------------------------\n",
      "ROC AUC score for DT for test set: 0.9944\n",
      "ROC AUC score for MLP model test set: 0.9850\n",
      "ROC AUC score hybrid model test set: 0.9925\n",
      "F1 : 0.9583, Recall : 0.9953 , Precision : 0.9239 ,  Accuracy : 0.9521 \n",
      "[[40003  4509]\n",
      " [  258 54780]]\n",
      "\n",
      "----------Classification Report------------------------------------\n",
      "              precision    recall  f1-score   support\n",
      "\n",
      "           0    0.99359   0.89870   0.94377     44512\n",
      "           1    0.92395   0.99531   0.95830     55038\n",
      "\n",
      "    accuracy                        0.95211     99550\n",
      "   macro avg    0.95877   0.94701   0.95104     99550\n",
      "weighted avg    0.95509   0.95211   0.95180     99550\n",
      "\n",
      "------------------------------------------------------------------------------------------\n",
      "--------------------------------------------------------------------------------\n",
      "Fold : 4\n",
      "TRAIN ROC AUC score for DT model, validation set: 0.9970\n",
      "F1 : 0.9808, Recall : 0.9893 , Precision : 0.9724 , Accuracy : 0.9793\n",
      "[[ 9341   309]\n",
      " [  118 10890]]\n",
      "\n",
      "----------Classification Report------------------------------------\n",
      "              precision    recall  f1-score   support\n",
      "\n",
      "           0    0.98753   0.96798   0.97765      9650\n",
      "           1    0.97241   0.98928   0.98077     11008\n",
      "\n",
      "    accuracy                        0.97933     20658\n",
      "   macro avg    0.97997   0.97863   0.97921     20658\n",
      "weighted avg    0.97947   0.97933   0.97932     20658\n",
      "\n",
      "------------------------------------------------------------------------------------------\n",
      "TRAIN ROC AUC score for MLP model, validation set: 0.9881\n",
      "F1 : 0.9550, Recall : 0.9760 , Precision : 0.9348 ,  Accuracy : 0.9510  \n",
      "[[ 8901   749]\n",
      " [  264 10744]]\n",
      "\n",
      "----------Classification Report------------------------------------\n",
      "              precision    recall  f1-score   support\n",
      "\n",
      "           0    0.97119   0.92238   0.94616      9650\n",
      "           1    0.93483   0.97602   0.95498     11008\n",
      "\n",
      "    accuracy                        0.95096     20658\n",
      "   macro avg    0.95301   0.94920   0.95057     20658\n",
      "weighted avg    0.95182   0.95096   0.95086     20658\n",
      "\n",
      "------------------------------------------------------------------------------------------\n",
      "--------------------------------------------- mlp test  ---------------------------------------------\n",
      "F1 : 0.9556, Recall : 0.9839 , Precision : 0.9289 ,  Accuracy : 0.9495 \n",
      "[[40369  4143]\n",
      " [  884 54154]]\n",
      "\n",
      "----------Classification Report------------------------------------\n",
      "              precision    recall  f1-score   support\n",
      "\n",
      "           0    0.97857   0.90692   0.94139     44512\n",
      "           1    0.92893   0.98394   0.95564     55038\n",
      "\n",
      "    accuracy                        0.94950     99550\n",
      "   macro avg    0.95375   0.94543   0.94852     99550\n",
      "weighted avg    0.95113   0.94950   0.94927     99550\n",
      "\n",
      "------------------------------------------------------------------------------------------\n",
      "--------------------------------------------- dt test  ---------------------------------------------\n",
      "F1 : 0.9582, Recall : 0.9951 , Precision : 0.9238 ,  Accuracy : 0.9519 \n",
      "[[39996  4516]\n",
      " [  268 54770]]\n",
      "\n",
      "----------Classification Report------------------------------------\n",
      "              precision    recall  f1-score   support\n",
      "\n",
      "           0    0.99334   0.89854   0.94357     44512\n",
      "           1    0.92383   0.99513   0.95815     55038\n",
      "\n",
      "    accuracy                        0.95194     99550\n",
      "   macro avg    0.95859   0.94684   0.95086     99550\n",
      "weighted avg    0.95491   0.95194   0.95163     99550\n",
      "\n",
      "------------------------------------------------------------------------------------------\n",
      "--------------------------------------------- hybrid ---------------------------------------------\n",
      "ROC AUC score for DT for test set: 0.9945\n",
      "ROC AUC score for MLP model test set: 0.9855\n",
      "ROC AUC score hybrid model test set: 0.9931\n",
      "F1 : 0.9582, Recall : 0.9951 , Precision : 0.9238 ,  Accuracy : 0.9519 \n",
      "[[39996  4516]\n",
      " [  268 54770]]\n",
      "\n",
      "----------Classification Report------------------------------------\n",
      "              precision    recall  f1-score   support\n",
      "\n",
      "           0    0.99334   0.89854   0.94357     44512\n",
      "           1    0.92383   0.99513   0.95815     55038\n",
      "\n",
      "    accuracy                        0.95194     99550\n",
      "   macro avg    0.95859   0.94684   0.95086     99550\n",
      "weighted avg    0.95491   0.95194   0.95163     99550\n",
      "\n",
      "------------------------------------------------------------------------------------------\n",
      "--------------------------------------------------------------------------------\n",
      "Fold : 5\n",
      "TRAIN ROC AUC score for DT model, validation set: 0.9971\n",
      "F1 : 0.9822, Recall : 0.9902 , Precision : 0.9743 , Accuracy : 0.9809\n",
      "[[ 9363   287]\n",
      " [  108 10900]]\n",
      "\n",
      "----------Classification Report------------------------------------\n",
      "              precision    recall  f1-score   support\n",
      "\n",
      "           0    0.98860   0.97026   0.97934      9650\n",
      "           1    0.97435   0.99019   0.98220     11008\n",
      "\n",
      "    accuracy                        0.98088     20658\n",
      "   macro avg    0.98147   0.98022   0.98077     20658\n",
      "weighted avg    0.98100   0.98088   0.98087     20658\n",
      "\n",
      "------------------------------------------------------------------------------------------\n",
      "TRAIN ROC AUC score for MLP model, validation set: 0.9878\n",
      "F1 : 0.9543, Recall : 0.9688 , Precision : 0.9402 ,  Accuracy : 0.9505  \n",
      "[[ 8972   678]\n",
      " [  344 10664]]\n",
      "\n",
      "----------Classification Report------------------------------------\n",
      "              precision    recall  f1-score   support\n",
      "\n",
      "           0    0.96307   0.92974   0.94611      9650\n",
      "           1    0.94022   0.96875   0.95427     11008\n",
      "\n",
      "    accuracy                        0.95053     20658\n",
      "   macro avg    0.95165   0.94925   0.95019     20658\n",
      "weighted avg    0.95090   0.95053   0.95046     20658\n",
      "\n",
      "------------------------------------------------------------------------------------------\n",
      "--------------------------------------------- mlp test  ---------------------------------------------\n",
      "F1 : 0.9538, Recall : 0.9783 , Precision : 0.9305 ,  Accuracy : 0.9476 \n",
      "[[40488  4024]\n",
      " [ 1193 53845]]\n",
      "\n",
      "----------Classification Report------------------------------------\n",
      "              precision    recall  f1-score   support\n",
      "\n",
      "           0    0.97138   0.90960   0.93947     44512\n",
      "           1    0.93046   0.97832   0.95379     55038\n",
      "\n",
      "    accuracy                        0.94759     99550\n",
      "   macro avg    0.95092   0.94396   0.94663     99550\n",
      "weighted avg    0.94876   0.94759   0.94739     99550\n",
      "\n",
      "------------------------------------------------------------------------------------------\n",
      "--------------------------------------------- dt test  ---------------------------------------------\n",
      "F1 : 0.9589, Recall : 0.9954 , Precision : 0.9250 ,  Accuracy : 0.9528 \n",
      "[[40068  4444]\n",
      " [  251 54787]]\n",
      "\n",
      "----------Classification Report------------------------------------\n",
      "              precision    recall  f1-score   support\n",
      "\n",
      "           0    0.99377   0.90016   0.94465     44512\n",
      "           1    0.92497   0.99544   0.95891     55038\n",
      "\n",
      "    accuracy                        0.95284     99550\n",
      "   macro avg    0.95937   0.94780   0.95178     99550\n",
      "weighted avg    0.95574   0.95284   0.95254     99550\n",
      "\n",
      "------------------------------------------------------------------------------------------\n",
      "--------------------------------------------- hybrid ---------------------------------------------\n",
      "ROC AUC score for DT for test set: 0.9945\n",
      "ROC AUC score for MLP model test set: 0.9847\n",
      "ROC AUC score hybrid model test set: 0.9924\n",
      "F1 : 0.9589, Recall : 0.9954 , Precision : 0.9250 ,  Accuracy : 0.9528 \n",
      "[[40068  4444]\n",
      " [  251 54787]]\n",
      "\n",
      "----------Classification Report------------------------------------\n",
      "              precision    recall  f1-score   support\n",
      "\n",
      "           0    0.99377   0.90016   0.94465     44512\n",
      "           1    0.92497   0.99544   0.95891     55038\n",
      "\n",
      "    accuracy                        0.95284     99550\n",
      "   macro avg    0.95937   0.94780   0.95178     99550\n",
      "weighted avg    0.95574   0.95284   0.95254     99550\n",
      "\n",
      "------------------------------------------------------------------------------------------\n",
      "--------------------------------------------------------------------------------\n",
      "Fold : 6\n",
      "TRAIN ROC AUC score for DT model, validation set: 0.9976\n",
      "F1 : 0.9844, Recall : 0.9908 , Precision : 0.9780 , Accuracy : 0.9833\n",
      "[[ 9405   245]\n",
      " [  101 10907]]\n",
      "\n",
      "----------Classification Report------------------------------------\n",
      "              precision    recall  f1-score   support\n",
      "\n",
      "           0    0.98938   0.97461   0.98194      9650\n",
      "           1    0.97803   0.99082   0.98439     11008\n",
      "\n",
      "    accuracy                        0.98325     20658\n",
      "   macro avg    0.98370   0.98272   0.98316     20658\n",
      "weighted avg    0.98333   0.98325   0.98324     20658\n",
      "\n",
      "------------------------------------------------------------------------------------------\n",
      "TRAIN ROC AUC score for MLP model, validation set: 0.9894\n",
      "F1 : 0.9597, Recall : 0.9705 , Precision : 0.9492 ,  Accuracy : 0.9566  \n",
      "[[ 9078   572]\n",
      " [  325 10683]]\n",
      "\n",
      "----------Classification Report------------------------------------\n",
      "              precision    recall  f1-score   support\n",
      "\n",
      "           0    0.96544   0.94073   0.95292      9650\n",
      "           1    0.94918   0.97048   0.95971     11008\n",
      "\n",
      "    accuracy                        0.95658     20658\n",
      "   macro avg    0.95731   0.95560   0.95631     20658\n",
      "weighted avg    0.95677   0.95658   0.95654     20658\n",
      "\n",
      "------------------------------------------------------------------------------------------\n",
      "--------------------------------------------- mlp test  ---------------------------------------------\n",
      "F1 : 0.9548, Recall : 0.9781 , Precision : 0.9326 ,  Accuracy : 0.9488 \n",
      "[[40623  3889]\n",
      " [ 1203 53835]]\n",
      "\n",
      "----------Classification Report------------------------------------\n",
      "              precision    recall  f1-score   support\n",
      "\n",
      "           0    0.97124   0.91263   0.94102     44512\n",
      "           1    0.93263   0.97814   0.95484     55038\n",
      "\n",
      "    accuracy                        0.94885     99550\n",
      "   macro avg    0.95193   0.94539   0.94793     99550\n",
      "weighted avg    0.94989   0.94885   0.94866     99550\n",
      "\n",
      "------------------------------------------------------------------------------------------\n",
      "--------------------------------------------- dt test  ---------------------------------------------\n",
      "F1 : 0.9581, Recall : 0.9955 , Precision : 0.9235 ,  Accuracy : 0.9519 \n",
      "[[39970  4542]\n",
      " [  246 54792]]\n",
      "\n",
      "----------Classification Report------------------------------------\n",
      "              precision    recall  f1-score   support\n",
      "\n",
      "           0    0.99388   0.89796   0.94349     44512\n",
      "           1    0.92345   0.99553   0.95814     55038\n",
      "\n",
      "    accuracy                        0.95190     99550\n",
      "   macro avg    0.95867   0.94675   0.95081     99550\n",
      "weighted avg    0.95494   0.95190   0.95159     99550\n",
      "\n",
      "------------------------------------------------------------------------------------------\n",
      "--------------------------------------------- hybrid ---------------------------------------------\n",
      "ROC AUC score for DT for test set: 0.9945\n",
      "ROC AUC score for MLP model test set: 0.9848\n",
      "ROC AUC score hybrid model test set: 0.9924\n",
      "F1 : 0.9581, Recall : 0.9955 , Precision : 0.9235 ,  Accuracy : 0.9519 \n",
      "[[39970  4542]\n",
      " [  246 54792]]\n",
      "\n",
      "----------Classification Report------------------------------------\n",
      "              precision    recall  f1-score   support\n",
      "\n",
      "           0    0.99388   0.89796   0.94349     44512\n",
      "           1    0.92345   0.99553   0.95814     55038\n",
      "\n",
      "    accuracy                        0.95190     99550\n",
      "   macro avg    0.95867   0.94675   0.95081     99550\n",
      "weighted avg    0.95494   0.95190   0.95159     99550\n",
      "\n",
      "------------------------------------------------------------------------------------------\n",
      "--------------------------------------------------------------------------------\n",
      "Fold : 7\n",
      "TRAIN ROC AUC score for DT model, validation set: 0.9972\n",
      "F1 : 0.9823, Recall : 0.9888 , Precision : 0.9759 , Accuracy : 0.9810\n",
      "[[ 9381   269]\n",
      " [  123 10884]]\n",
      "\n",
      "----------Classification Report------------------------------------\n",
      "              precision    recall  f1-score   support\n",
      "\n",
      "           0    0.98706   0.97212   0.97953      9650\n",
      "           1    0.97588   0.98883   0.98231     11007\n",
      "\n",
      "    accuracy                        0.98102     20657\n",
      "   macro avg    0.98147   0.98047   0.98092     20657\n",
      "weighted avg    0.98110   0.98102   0.98101     20657\n",
      "\n",
      "------------------------------------------------------------------------------------------\n",
      "TRAIN ROC AUC score for MLP model, validation set: 0.9884\n",
      "F1 : 0.9555, Recall : 0.9699 , Precision : 0.9415 ,  Accuracy : 0.9519  \n",
      "[[ 8987   663]\n",
      " [  331 10676]]\n",
      "\n",
      "----------Classification Report------------------------------------\n",
      "              precision    recall  f1-score   support\n",
      "\n",
      "           0    0.96448   0.93130   0.94760      9650\n",
      "           1    0.94153   0.96993   0.95552     11007\n",
      "\n",
      "    accuracy                        0.95188     20657\n",
      "   macro avg    0.95300   0.95061   0.95156     20657\n",
      "weighted avg    0.95225   0.95188   0.95182     20657\n",
      "\n",
      "------------------------------------------------------------------------------------------\n",
      "--------------------------------------------- mlp test  ---------------------------------------------\n",
      "F1 : 0.9550, Recall : 0.9797 , Precision : 0.9316 ,  Accuracy : 0.9490 \n",
      "[[40553  3959]\n",
      " [ 1119 53919]]\n",
      "\n",
      "----------Classification Report------------------------------------\n",
      "              precision    recall  f1-score   support\n",
      "\n",
      "           0    0.97315   0.91106   0.94108     44512\n",
      "           1    0.93160   0.97967   0.95503     55038\n",
      "\n",
      "    accuracy                        0.94899     99550\n",
      "   macro avg    0.95237   0.94536   0.94805     99550\n",
      "weighted avg    0.95018   0.94899   0.94879     99550\n",
      "\n",
      "------------------------------------------------------------------------------------------\n",
      "--------------------------------------------- dt test  ---------------------------------------------\n",
      "F1 : 0.9595, Recall : 0.9956 , Precision : 0.9258 ,  Accuracy : 0.9535 \n",
      "[[40123  4389]\n",
      " [  240 54798]]\n",
      "\n",
      "----------Classification Report------------------------------------\n",
      "              precision    recall  f1-score   support\n",
      "\n",
      "           0    0.99405   0.90140   0.94546     44512\n",
      "           1    0.92585   0.99564   0.95947     55038\n",
      "\n",
      "    accuracy                        0.95350     99550\n",
      "   macro avg    0.95995   0.94852   0.95247     99550\n",
      "weighted avg    0.95634   0.95350   0.95321     99550\n",
      "\n",
      "------------------------------------------------------------------------------------------\n",
      "--------------------------------------------- hybrid ---------------------------------------------\n",
      "ROC AUC score for DT for test set: 0.9946\n",
      "ROC AUC score for MLP model test set: 0.9851\n",
      "ROC AUC score hybrid model test set: 0.9926\n",
      "F1 : 0.9595, Recall : 0.9956 , Precision : 0.9258 ,  Accuracy : 0.9535 \n",
      "[[40123  4389]\n",
      " [  240 54798]]\n",
      "\n",
      "----------Classification Report------------------------------------\n",
      "              precision    recall  f1-score   support\n",
      "\n",
      "           0    0.99405   0.90140   0.94546     44512\n",
      "           1    0.92585   0.99564   0.95947     55038\n",
      "\n",
      "    accuracy                        0.95350     99550\n",
      "   macro avg    0.95995   0.94852   0.95247     99550\n",
      "weighted avg    0.95634   0.95350   0.95321     99550\n",
      "\n",
      "------------------------------------------------------------------------------------------\n",
      "--------------------------------------------------------------------------------\n",
      "Fold : 8\n",
      "TRAIN ROC AUC score for DT model, validation set: 0.9974\n",
      "F1 : 0.9814, Recall : 0.9905 , Precision : 0.9725 , Accuracy : 0.9800\n",
      "[[ 9342   308]\n",
      " [  105 10902]]\n",
      "\n",
      "----------Classification Report------------------------------------\n",
      "              precision    recall  f1-score   support\n",
      "\n",
      "           0    0.98889   0.96808   0.97837      9650\n",
      "           1    0.97252   0.99046   0.98141     11007\n",
      "\n",
      "    accuracy                        0.98001     20657\n",
      "   macro avg    0.98070   0.97927   0.97989     20657\n",
      "weighted avg    0.98017   0.98001   0.97999     20657\n",
      "\n",
      "------------------------------------------------------------------------------------------\n",
      "TRAIN ROC AUC score for MLP model, validation set: 0.9884\n",
      "F1 : 0.9553, Recall : 0.9721 , Precision : 0.9390 ,  Accuracy : 0.9515  \n",
      "[[ 8955   695]\n",
      " [  307 10700]]\n",
      "\n",
      "----------Classification Report------------------------------------\n",
      "              precision    recall  f1-score   support\n",
      "\n",
      "           0    0.96685   0.92798   0.94702      9650\n",
      "           1    0.93901   0.97211   0.95527     11007\n",
      "\n",
      "    accuracy                        0.95149     20657\n",
      "   macro avg    0.95293   0.95004   0.95114     20657\n",
      "weighted avg    0.95202   0.95149   0.95142     20657\n",
      "\n",
      "------------------------------------------------------------------------------------------\n",
      "--------------------------------------------- mlp test  ---------------------------------------------\n",
      "F1 : 0.9552, Recall : 0.9801 , Precision : 0.9315 ,  Accuracy : 0.9492 \n",
      "[[40545  3967]\n",
      " [ 1094 53944]]\n",
      "\n",
      "----------Classification Report------------------------------------\n",
      "              precision    recall  f1-score   support\n",
      "\n",
      "           0    0.97373   0.91088   0.94125     44512\n",
      "           1    0.93150   0.98012   0.95519     55038\n",
      "\n",
      "    accuracy                        0.94916     99550\n",
      "   macro avg    0.95261   0.94550   0.94822     99550\n",
      "weighted avg    0.95038   0.94916   0.94896     99550\n",
      "\n",
      "------------------------------------------------------------------------------------------\n",
      "--------------------------------------------- dt test  ---------------------------------------------\n",
      "F1 : 0.9584, Recall : 0.9953 , Precision : 0.9242 ,  Accuracy : 0.9523 \n",
      "[[40016  4496]\n",
      " [  256 54782]]\n",
      "\n",
      "----------Classification Report------------------------------------\n",
      "              precision    recall  f1-score   support\n",
      "\n",
      "           0    0.99364   0.89899   0.94395     44512\n",
      "           1    0.92415   0.99535   0.95843     55038\n",
      "\n",
      "    accuracy                        0.95227     99550\n",
      "   macro avg    0.95890   0.94717   0.95119     99550\n",
      "weighted avg    0.95522   0.95227   0.95196     99550\n",
      "\n",
      "------------------------------------------------------------------------------------------\n",
      "--------------------------------------------- hybrid ---------------------------------------------\n",
      "ROC AUC score for DT for test set: 0.9946\n",
      "ROC AUC score for MLP model test set: 0.9850\n",
      "ROC AUC score hybrid model test set: 0.9928\n",
      "F1 : 0.9584, Recall : 0.9953 , Precision : 0.9242 ,  Accuracy : 0.9523 \n",
      "[[40016  4496]\n",
      " [  256 54782]]\n",
      "\n",
      "----------Classification Report------------------------------------\n",
      "              precision    recall  f1-score   support\n",
      "\n",
      "           0    0.99364   0.89899   0.94395     44512\n",
      "           1    0.92415   0.99535   0.95843     55038\n",
      "\n",
      "    accuracy                        0.95227     99550\n",
      "   macro avg    0.95890   0.94717   0.95119     99550\n",
      "weighted avg    0.95522   0.95227   0.95196     99550\n",
      "\n",
      "------------------------------------------------------------------------------------------\n",
      "--------------------------------------------------------------------------------\n",
      "Fold : 9\n",
      "TRAIN ROC AUC score for DT model, validation set: 0.9975\n",
      "F1 : 0.9831, Recall : 0.9908 , Precision : 0.9754 , Accuracy : 0.9818\n",
      "[[ 9375   275]\n",
      " [  101 10906]]\n",
      "\n",
      "----------Classification Report------------------------------------\n",
      "              precision    recall  f1-score   support\n",
      "\n",
      "           0    0.98934   0.97150   0.98034      9650\n",
      "           1    0.97540   0.99082   0.98305     11007\n",
      "\n",
      "    accuracy                        0.98180     20657\n",
      "   macro avg    0.98237   0.98116   0.98170     20657\n",
      "weighted avg    0.98192   0.98180   0.98179     20657\n",
      "\n",
      "------------------------------------------------------------------------------------------\n",
      "TRAIN ROC AUC score for MLP model, validation set: 0.9886\n",
      "F1 : 0.9540, Recall : 0.9692 , Precision : 0.9392 ,  Accuracy : 0.9502  \n",
      "[[ 8960   690]\n",
      " [  339 10668]]\n",
      "\n",
      "----------Classification Report------------------------------------\n",
      "              precision    recall  f1-score   support\n",
      "\n",
      "           0    0.96354   0.92850   0.94570      9650\n",
      "           1    0.93925   0.96920   0.95399     11007\n",
      "\n",
      "    accuracy                        0.95019     20657\n",
      "   macro avg    0.95140   0.94885   0.94984     20657\n",
      "weighted avg    0.95060   0.95019   0.95012     20657\n",
      "\n",
      "------------------------------------------------------------------------------------------\n",
      "--------------------------------------------- mlp test  ---------------------------------------------\n",
      "F1 : 0.9552, Recall : 0.9782 , Precision : 0.9333 ,  Accuracy : 0.9493 \n",
      "[[40662  3850]\n",
      " [ 1200 53838]]\n",
      "\n",
      "----------Classification Report------------------------------------\n",
      "              precision    recall  f1-score   support\n",
      "\n",
      "           0    0.97133   0.91351   0.94153     44512\n",
      "           1    0.93326   0.97820   0.95520     55038\n",
      "\n",
      "    accuracy                        0.94927     99550\n",
      "   macro avg    0.95230   0.94585   0.94837     99550\n",
      "weighted avg    0.95029   0.94927   0.94909     99550\n",
      "\n",
      "------------------------------------------------------------------------------------------\n",
      "--------------------------------------------- dt test  ---------------------------------------------\n",
      "F1 : 0.9581, Recall : 0.9954 , Precision : 0.9234 ,  Accuracy : 0.9518 \n",
      "[[39968  4544]\n",
      " [  251 54787]]\n",
      "\n",
      "----------Classification Report------------------------------------\n",
      "              precision    recall  f1-score   support\n",
      "\n",
      "           0    0.99376   0.89792   0.94341     44512\n",
      "           1    0.92341   0.99544   0.95807     55038\n",
      "\n",
      "    accuracy                        0.95183     99550\n",
      "   macro avg    0.95859   0.94668   0.95074     99550\n",
      "weighted avg    0.95487   0.95183   0.95152     99550\n",
      "\n",
      "------------------------------------------------------------------------------------------\n",
      "--------------------------------------------- hybrid ---------------------------------------------\n",
      "ROC AUC score for DT for test set: 0.9944\n",
      "ROC AUC score for MLP model test set: 0.9851\n",
      "ROC AUC score hybrid model test set: 0.9925\n",
      "F1 : 0.9581, Recall : 0.9954 , Precision : 0.9234 ,  Accuracy : 0.9518 \n",
      "[[39968  4544]\n",
      " [  251 54787]]\n",
      "\n",
      "----------Classification Report------------------------------------\n",
      "              precision    recall  f1-score   support\n",
      "\n",
      "           0    0.99376   0.89792   0.94341     44512\n",
      "           1    0.92341   0.99544   0.95807     55038\n",
      "\n",
      "    accuracy                        0.95183     99550\n",
      "   macro avg    0.95859   0.94668   0.95074     99550\n",
      "weighted avg    0.95487   0.95183   0.95152     99550\n",
      "\n",
      "------------------------------------------------------------------------------------------\n",
      "--------------------------------------------------------------------------------\n",
      "Fold : 10\n",
      "TRAIN ROC AUC score for DT model, validation set: 0.9970\n",
      "F1 : 0.9812, Recall : 0.9885 , Precision : 0.9741 , Accuracy : 0.9799\n",
      "[[ 9361   289]\n",
      " [  127 10880]]\n",
      "\n",
      "----------Classification Report------------------------------------\n",
      "              precision    recall  f1-score   support\n",
      "\n",
      "           0    0.98661   0.97005   0.97826      9650\n",
      "           1    0.97412   0.98846   0.98124     11007\n",
      "\n",
      "    accuracy                        0.97986     20657\n",
      "   macro avg    0.98037   0.97926   0.97975     20657\n",
      "weighted avg    0.97996   0.97986   0.97985     20657\n",
      "\n",
      "------------------------------------------------------------------------------------------\n",
      "TRAIN ROC AUC score for MLP model, validation set: 0.9884\n",
      "F1 : 0.9561, Recall : 0.9705 , Precision : 0.9422 ,  Accuracy : 0.9526  \n",
      "[[ 8995   655]\n",
      " [  325 10682]]\n",
      "\n",
      "----------Classification Report------------------------------------\n",
      "              precision    recall  f1-score   support\n",
      "\n",
      "           0    0.96513   0.93212   0.94834      9650\n",
      "           1    0.94222   0.97047   0.95614     11007\n",
      "\n",
      "    accuracy                        0.95256     20657\n",
      "   macro avg    0.95368   0.95130   0.95224     20657\n",
      "weighted avg    0.95292   0.95256   0.95250     20657\n",
      "\n",
      "------------------------------------------------------------------------------------------\n",
      "--------------------------------------------- mlp test  ---------------------------------------------\n",
      "F1 : 0.9560, Recall : 0.9793 , Precision : 0.9339 ,  Accuracy : 0.9502 \n",
      "[[40696  3816]\n",
      " [ 1140 53898]]\n",
      "\n",
      "----------Classification Report------------------------------------\n",
      "              precision    recall  f1-score   support\n",
      "\n",
      "           0    0.97275   0.91427   0.94260     44512\n",
      "           1    0.93388   0.97929   0.95605     55038\n",
      "\n",
      "    accuracy                        0.95022     99550\n",
      "   macro avg    0.95332   0.94678   0.94932     99550\n",
      "weighted avg    0.95126   0.95022   0.95004     99550\n",
      "\n",
      "------------------------------------------------------------------------------------------\n",
      "--------------------------------------------- dt test  ---------------------------------------------\n",
      "F1 : 0.9589, Recall : 0.9951 , Precision : 0.9253 ,  Accuracy : 0.9529 \n",
      "[[40091  4421]\n",
      " [  270 54768]]\n",
      "\n",
      "----------Classification Report------------------------------------\n",
      "              precision    recall  f1-score   support\n",
      "\n",
      "           0    0.99331   0.90068   0.94473     44512\n",
      "           1    0.92531   0.99509   0.95893     55038\n",
      "\n",
      "    accuracy                        0.95288     99550\n",
      "   macro avg    0.95931   0.94789   0.95183     99550\n",
      "weighted avg    0.95571   0.95288   0.95258     99550\n",
      "\n",
      "------------------------------------------------------------------------------------------\n",
      "--------------------------------------------- hybrid ---------------------------------------------\n",
      "ROC AUC score for DT for test set: 0.9942\n",
      "ROC AUC score for MLP model test set: 0.9854\n",
      "ROC AUC score hybrid model test set: 0.9924\n",
      "F1 : 0.9589, Recall : 0.9951 , Precision : 0.9253 ,  Accuracy : 0.9529 \n",
      "[[40091  4421]\n",
      " [  270 54768]]\n",
      "\n",
      "----------Classification Report------------------------------------\n",
      "              precision    recall  f1-score   support\n",
      "\n",
      "           0    0.99331   0.90068   0.94473     44512\n",
      "           1    0.92531   0.99509   0.95893     55038\n",
      "\n",
      "    accuracy                        0.95288     99550\n",
      "   macro avg    0.95931   0.94789   0.95183     99550\n",
      "weighted avg    0.95571   0.95288   0.95258     99550\n",
      "\n",
      "------------------------------------------------------------------------------------------\n"
     ]
    }
   ],
   "source": [
    "from sklearn.model_selection import StratifiedKFold\n",
    "from sklearn.model_selection import train_test_split\n",
    "import sklearn\n",
    "from sklearn.metrics import f1_score, roc_auc_score, confusion_matrix, precision_recall_curve, auc, roc_curve, recall_score, precision_score\n",
    "\n",
    "# some hyper parameters\n",
    "SEED = 1970\n",
    "test_train_split_SEED = 1970\n",
    "# FOLDS = 10\n",
    "show_fold_stats = True\n",
    "VERBOSE = 0\n",
    "FOLDS = 10\n",
    "# Lets put aside a small test set, so we can check performance of different classifiers against it\n",
    "disease_train, disease_test, disease_y_train, disease_y_test =X_train_sm,X_test_sm,y_train_sm,y_test_sm\n",
    "dieases_train_sc =sc_train\n",
    "disease_test_sc = sc_test\n",
    "\n",
    "mean_tpr = 0.0\n",
    "mean_fpr = np.linspace(0, 1, 100)\n",
    "lw = 2\n",
    "\n",
    "mean_tpr_hybrid = 0.0\n",
    "mean_fpr_hybrid = np.linspace(0, 1, 100)\n",
    "lw_hybrid = 2\n",
    "\n",
    "score_array_hybrid=[]\n",
    "accuracy_array_hybrid=[]\n",
    "\n",
    "score_array=[]\n",
    "accuracy_array=[]\n",
    "i = 0\n",
    "\n",
    "skf = StratifiedKFold(n_splits = 10, shuffle = True, random_state = SEED)\n",
    "\n",
    "for fold, (idxT,idxV) in enumerate(skf.split(disease_train, disease_y_train)):\n",
    "\n",
    "    X_train = disease_train.iloc[idxT]\n",
    "    X_val = disease_train.iloc[idxV]\n",
    "    X_val_sc = dieases_train_sc[idxV]\n",
    "    y_train = disease_y_train[idxT]\n",
    "    y_val = disease_y_train[idxV]\n",
    "\n",
    "    X_train_sc = dieases_train_sc[idxT]\n",
    "\n",
    "\n",
    "    clf  = BalancedBaggingClassifier(\n",
    "    AdaBoostClassifier(DecisionTreeClassifier(ccp_alpha =3.49297098164335e-04 , random_state=1),\n",
    "                           random_state=1,n_estimators=120), n_jobs=-1)\n",
    "    clf.fit(X_train, y_train)\n",
    "\n",
    "    RF_pred_class = clf.predict(X_val)\n",
    "    RF_preds = clf.predict_proba(X_val)\n",
    "\n",
    "    RF_AUC_test_score = roc_auc_score(y_val, RF_preds[:,1])\n",
    "    RF_f1_test = f1_score(y_val, RF_pred_class)\n",
    "    RF_recall_test = recall_score(y_val, RF_pred_class)\n",
    "    RF_precision_test = precision_score(y_val, RF_pred_class)\n",
    "    RF_accuracy_score_test  = accuracy_score(y_val,RF_pred_class)\n",
    "    if show_fold_stats:\n",
    "        print('-' * 80)\n",
    "        print('Fold : %s'%(fold+1))\n",
    "        print('TRAIN ROC AUC score for DT model, validation set: %.4f'%RF_AUC_test_score)\n",
    "        print('F1 : %.4f, Recall : %.4f , Precision : %.4f , Accuracy : %.4f'%(RF_f1_test, RF_recall_test, RF_precision_test,RF_accuracy_score_test))\n",
    "        print(confusion_matrix(y_val, RF_pred_class))\n",
    "        print(\"\\n----------Classification Report------------------------------------\")\n",
    "        print(classification_report(y_val,RF_pred_class, digits=5))\n",
    "        print('-'*90)\n",
    "\n",
    "    XGB_model = BalancedBaggingClassifier(\n",
    "    MLPClassifier(solver='adam', activation= 'relu', hidden_layer_sizes=120, learning_rate_init=0.0015 ), n_jobs=-1)\n",
    "\n",
    "    XGB_model.fit(X_train_sc, y_train)\n",
    "\n",
    "    XGB_preds = XGB_model.predict_proba(X_val_sc)\n",
    "    XGB_class = XGB_model.predict(X_val_sc)\n",
    "\n",
    "    XGB_score = roc_auc_score(y_val, XGB_preds[:,1])\n",
    "    XGB_f1 = f1_score(y_val, XGB_class)\n",
    "    XGB_recall = recall_score(y_val, XGB_class)\n",
    "    XGB_precision = precision_score(y_val, XGB_class)\n",
    "    XGB_accuracy_score_test  = accuracy_score(y_val,XGB_class)\n",
    "\n",
    "\n",
    "    if show_fold_stats:\n",
    "        print('TRAIN ROC AUC score for MLP model, validation set: %.4f'%XGB_score)\n",
    "        print('F1 : %.4f, Recall : %.4f , Precision : %.4f ,  Accuracy : %.4f  '%(XGB_f1, XGB_recall, XGB_precision,XGB_accuracy_score_test))\n",
    "        print(confusion_matrix(y_val, XGB_class))\n",
    "        print(\"\\n----------Classification Report------------------------------------\")\n",
    "        print(classification_report(y_val,XGB_class, digits=5))\n",
    "        print('-'*90)\n",
    "\n",
    "    RF_preds_test = clf.predict_proba(disease_test)\n",
    "    XGB_preds_test = XGB_model.predict_proba(disease_test_sc)\n",
    "    XGB_class_test = XGB_model.predict(disease_test_sc)\n",
    "    RF_class_test = clf.predict(disease_test)\n",
    "    y_mlp = XGB_preds_test[:,1]\n",
    "    y_dt = RF_preds_test[:,1]\n",
    "\n",
    "    print(\"-\"*45,\"mlp test \",\"-\"*45)\n",
    "    print('F1 : %.4f, Recall : %.4f , Precision : %.4f ,  Accuracy : %.4f '%(f1_score(disease_y_test, XGB_class_test), recall_score(disease_y_test, XGB_class_test), precision_score(disease_y_test, XGB_class_test),accuracy_score(disease_y_test,XGB_class_test)))\n",
    "    print(confusion_matrix(disease_y_test,  XGB_class_test))\n",
    "    print(\"\\n----------Classification Report------------------------------------\")\n",
    "    print(classification_report(disease_y_test, XGB_class_test, digits=5))\n",
    "    print('-'*90)\n",
    "\n",
    "\n",
    "    print(\"-\"*45,\"dt test \",\"-\"*45)\n",
    "    print('F1 : %.4f, Recall : %.4f , Precision : %.4f ,  Accuracy : %.4f '%(f1_score(disease_y_test, RF_class_test), recall_score(disease_y_test, RF_class_test), precision_score(disease_y_test, RF_class_test),accuracy_score(disease_y_test,RF_class_test)))\n",
    "    print(confusion_matrix(disease_y_test, RF_class_test))\n",
    "    print(\"\\n----------Classification Report------------------------------------\")\n",
    "    print(classification_report(disease_y_test,RF_class_test, digits=5))\n",
    "    print('-'*90)\n",
    "\n",
    "\n",
    "    avg_preds_test = (y_mlp * .2) + (y_dt* .8)\n",
    "    print(\"-\"*45,\"hybrid\",\"-\"*45)\n",
    "    RF_test_AUC = roc_auc_score(disease_y_test, RF_preds_test[:,1])\n",
    "    print('ROC AUC score for DT for test set: %.4f'%RF_test_AUC)\n",
    "    XGB_test_AUC = roc_auc_score(disease_y_test, XGB_preds_test[:,1])\n",
    "    print('ROC AUC score for MLP model test set: %.4f'%XGB_test_AUC)\n",
    "    average_AUC = roc_auc_score(disease_y_test, avg_preds_test )\n",
    "    print('ROC AUC score hybrid model test set: %.4f'%average_AUC)\n",
    "    y_mlp_class = XGB_class_test\n",
    "    y_dt_class = RF_class_test\n",
    "    avg_class = (y_mlp_class * .2) + (y_dt_class* .8)\n",
    "    avg_class = (avg_class > .5 ).astype(int)\n",
    "    print('F1 : %.4f, Recall : %.4f , Precision : %.4f ,  Accuracy : %.4f '%(f1_score(disease_y_test, avg_class), recall_score(disease_y_test, avg_class), precision_score(disease_y_test, avg_class),accuracy_score(disease_y_test,avg_class)))\n",
    "    print(confusion_matrix(disease_y_test, avg_class))\n",
    "    print(\"\\n----------Classification Report------------------------------------\")\n",
    "    print(classification_report(disease_y_test,avg_class, digits=5))\n",
    "    print('-'*90)"
   ]
  },
  {
   "cell_type": "markdown",
   "metadata": {
    "id": "gFdEKZl3_oXE"
   },
   "source": [
    "## DRNN"
   ]
  },
  {
   "cell_type": "code",
   "execution_count": null,
   "metadata": {
    "id": "pe2KO0Ml_oXE",
    "outputId": "1af0a02b-efab-4a48-94be-fe86e9845c9c"
   },
   "outputs": [
    {
     "name": "stdout",
     "output_type": "stream",
     "text": [
      "fit_time: 644.19995 (+/- 43.4538)\n",
      "score_time: 5.90258 (+/- 0.6561)\n",
      "test_accuracy: 0.97041 (+/- 0.1704)\n",
      "test_precision: 0.98027 (+/- 0.1112)\n",
      "test_recall: 0.97041 (+/- 0.1704)\n",
      "test_f1_score: 0.96717 (+/- 0.1899)\n"
     ]
    }
   ],
   "source": [
    "CrossValidation(model_rnn,X_train_,y_train_,10)"
   ]
  },
  {
   "cell_type": "code",
   "execution_count": null,
   "metadata": {
    "id": "mCmj4U8i_oXE",
    "outputId": "aba3d7f8-a656-4157-d1ea-10f42a95aa94"
   },
   "outputs": [
    {
     "name": "stdout",
     "output_type": "stream",
     "text": [
      "Accuracy: 0.9804330559183096\n",
      "Precision: 0.9804524313748377\n",
      "Recall: 0.9802408827208108\n",
      "F1 score: 0.9803433864500224\n"
     ]
    }
   ],
   "source": [
    "from sklearn.model_selection import KFold\n",
    "from sklearn.model_selection import StratifiedKFold\n",
    "from sklearn.model_selection import train_test_split\n",
    "import sklearn\n",
    "from sklearn.metrics import f1_score, roc_auc_score, confusion_matrix, precision_recall_curve, auc, roc_curve, recall_score, precision_score\n",
    "\n",
    "n_splits = 10\n",
    "\n",
    "# Initialize the K object\n",
    "kf = KFold(n_splits=n_splits, shuffle=True)\n",
    "\n",
    "# Initialize lists to store the evaluation metrics for each fold\n",
    "acc_scores = []\n",
    "prec_scores = []\n",
    "rec_scores = []\n",
    "f1_scores = []\n",
    "\n",
    "disease_train, disease_test, disease_y_train, disease_y_test =X_train_sm,X_test_sm,y_train_sm,y_test_sm\n",
    "dieases_train_sc =sc_train\n",
    "disease_test_sc = sc_test\n",
    "SEED = 1970\n",
    "\n",
    "skf = StratifiedKFold(n_splits = 10, shuffle = True, random_state = SEED)\n",
    "for fold, (idxT,idxV) in enumerate(skf.split(disease_train, disease_y_train)):\n",
    "\n",
    "    X_train = disease_train.iloc[idxT]\n",
    "    X_val = disease_train.iloc[idxV]\n",
    "    X_train_sc = dieases_train_sc[idxT]\n",
    "    X_val_sc = dieases_train_sc[idxV]\n",
    "    y_train = disease_y_train[idxT]\n",
    "    y_val = disease_y_train[idxV]\n",
    "\n",
    "\n",
    "    # Train the model on the training set for this fold\n",
    "    xg= xgb.XGBClassifier(n_estimators=110, max_depth=13,\n",
    "                    learning_rate=0.2,\n",
    "                    objective='binary:logitraw',\n",
    "                    max_features=None,\n",
    "                    verbosity  = 0,\n",
    "\n",
    "                    # tree_method = 'gpu_hist',\n",
    "                    use_label_encoder=False,\n",
    "                    n_jobs=-1,\n",
    "                   random_state  = 0 )\n",
    "\n",
    "    xg.fit(X_train,y_train)\n",
    "    probas_xg=xg.predict_proba(X_val)\n",
    "\n",
    "    Drnn = BalancedBaggingClassifier(\n",
    "    MLPClassifier(solver='adam', activation= 'relu', hidden_layer_sizes=120, learning_rate_init=0.0015 ), n_jobs=-1)\n",
    "\n",
    "    Drnn.fit(X_train_sc, y_train)\n",
    "    probas_rnn = Drnn.predict_proba(X_val_sc)\n",
    "    y_xgb = probas_xg[:,1]\n",
    "    y_drnn = probas_rnn[:,1]\n",
    "\n",
    "    y_preds_hy = (y_xgb  * .35) + (y_drnn* .65)\n",
    "    y_preds_drnn_xgb = (y_preds_hy > .5 ).astype(int)\n",
    "\n",
    "    y_pred = y_preds_drnn_xgb\n",
    "    y_true = y_val\n",
    "\n",
    "    # Calculate the evaluation metrics for this fold\n",
    "    acc = accuracy_score(y_val, y_pred)\n",
    "    prec = precision_score(y_val, y_pred, average='macro')\n",
    "    rec = recall_score(y_val, y_pred, average='macro')\n",
    "    f1 = f1_score(y_val, y_pred, average='macro')\n",
    "\n",
    "    # Append the evaluation metrics to the lists\n",
    "    acc_scores.append(acc)\n",
    "    prec_scores.append(prec)\n",
    "    rec_scores.append(rec)\n",
    "    f1_scores.append(f1)\n",
    "\n",
    "# Print the average evaluation metrics over all folds\n",
    "print('Accuracy:', np.mean(acc_scores))\n",
    "print('Precision:', np.mean(prec_scores))\n",
    "print('Recall:', np.mean(rec_scores))\n",
    "print('F1 score:', np.mean(f1_scores))"
   ]
  },
  {
   "cell_type": "code",
   "execution_count": null,
   "metadata": {
    "id": "888a1181",
    "outputId": "32e3346e-5ea3-4925-fcc2-5d4c3551916d",
    "scrolled": false
   },
   "outputs": [
    {
     "name": "stdout",
     "output_type": "stream",
     "text": [
      "fit_time: 121.98865 (+/- 28.9948)\n",
      "score_time: 0.24519 (+/- 0.0370)\n",
      "test_accuracy: 0.95383 (+/- 0.0624)\n",
      "test_precision: 0.95526 (+/- 0.0544)\n",
      "test_recall: 0.95383 (+/- 0.0624)\n",
      "test_f1_score: 0.95361 (+/- 0.0638)\n"
     ]
    }
   ],
   "source": [
    "CrossValidation(rf,X_train,y_train,10)"
   ]
  },
  {
   "cell_type": "code",
   "execution_count": null,
   "metadata": {
    "id": "ab529b42",
    "outputId": "7d364a13-2a58-4bea-98db-8b90f994a616",
    "scrolled": false
   },
   "outputs": [
    {
     "name": "stdout",
     "output_type": "stream",
     "text": [
      "fit_time: 6316.53706 (+/- 3208.1614)\n",
      "score_time: 12.64109 (+/- 7.7462)\n",
      "test_accuracy: 0.99350 (+/- 0.0133)\n",
      "test_precision: 0.99359 (+/- 0.0128)\n",
      "test_recall: 0.99350 (+/- 0.0133)\n",
      "test_f1_score: 0.99350 (+/- 0.0134)\n"
     ]
    }
   ],
   "source": [
    "CrossValidation(rf1,X_train,y_train,10)"
   ]
  },
  {
   "cell_type": "code",
   "execution_count": null,
   "metadata": {
    "id": "00977926",
    "outputId": "6166aad3-d856-4903-8c68-fd43913c2fe1",
    "scrolled": true
   },
   "outputs": [
    {
     "name": "stdout",
     "output_type": "stream",
     "text": [
      "fit_time: 797.57185 (+/- 38.3452)\n",
      "score_time: 7.54442 (+/- 4.5054)\n",
      "test_accuracy: 0.96351 (+/- 0.0603)\n",
      "test_precision: 0.96497 (+/- 0.0526)\n",
      "test_recall: 0.96351 (+/- 0.0603)\n",
      "test_f1_score: 0.96332 (+/- 0.0615)\n"
     ]
    }
   ],
   "source": [
    "CrossValidation(rf2,X_train,y_train,10)"
   ]
  }
 ],
 "metadata": {
  "accelerator": "GPU",
  "colab": {
   "provenance": []
  },
  "gpuClass": "standard",
  "kernelspec": {
   "display_name": "Python 3 (ipykernel)",
   "language": "python",
   "name": "python3"
  },
  "language_info": {
   "codemirror_mode": {
    "name": "ipython",
    "version": 3
   },
   "file_extension": ".py",
   "mimetype": "text/x-python",
   "name": "python",
   "nbconvert_exporter": "python",
   "pygments_lexer": "ipython3",
   "version": "3.11.1"
  }
 },
 "nbformat": 4,
 "nbformat_minor": 1
}
